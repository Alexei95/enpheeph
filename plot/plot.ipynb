{
 "cells": [
  {
   "cell_type": "code",
   "execution_count": 100,
   "metadata": {
    "tags": []
   },
   "outputs": [
    {
     "output_type": "display_data",
     "data": {
      "application/vnd.plotly.v1+json": {
       "config": {
        "plotlyServerURL": "https://plot.ly"
       },
       "data": [
        {
         "hovertemplate": "n_bit_flips=0<br>coverage=%{x}<br>accuracy=%{y}<extra></extra>",
         "legendgroup": "0",
         "line": {
          "color": "rgb(241.0, 236.0, 236.0)",
          "dash": "solid"
         },
         "mode": "lines",
         "name": "0",
         "orientation": "v",
         "showlegend": true,
         "type": "scatter",
         "x": [
          1,
          2,
          3,
          4,
          5,
          6,
          7,
          8,
          9,
          10,
          11,
          12,
          13,
          14
         ],
         "xaxis": "x",
         "y": [
          0.9847,
          0.9847,
          0.9847,
          0.9847,
          0.9847,
          0.9847,
          0.9847,
          0.9847,
          0.9847,
          0.9847,
          0.9847,
          0.9847,
          0.9847,
          0.9847
         ],
         "yaxis": "y"
        },
        {
         "hovertemplate": "n_bit_flips=1<br>coverage=%{x}<br>accuracy=%{y}<extra></extra>",
         "legendgroup": "1",
         "line": {
          "color": "rgb(235.16129032258064, 228.67741935483872, 228.93548387096774)",
          "dash": "solid"
         },
         "mode": "lines",
         "name": "1",
         "orientation": "v",
         "showlegend": true,
         "type": "scatter",
         "x": [
          1,
          2,
          3,
          4,
          5,
          6,
          7,
          8,
          9,
          10,
          11,
          12,
          13,
          14
         ],
         "xaxis": "x",
         "y": [
          0.9847,
          0.9844,
          0.9846,
          0.9843,
          0.9839,
          0.9835,
          0.9841,
          0.9836,
          0.9835,
          0.9837,
          0.9837,
          0.9831,
          0.9829,
          0.9826
         ],
         "yaxis": "y"
        },
        {
         "hovertemplate": "n_bit_flips=2<br>coverage=%{x}<br>accuracy=%{y}<extra></extra>",
         "legendgroup": "2",
         "line": {
          "color": "rgb(229.32258064516128, 221.3548387096774, 221.8709677419355)",
          "dash": "solid"
         },
         "mode": "lines",
         "name": "2",
         "orientation": "v",
         "showlegend": true,
         "type": "scatter",
         "x": [
          1,
          2,
          3,
          4,
          5,
          6,
          7,
          8,
          9,
          10,
          11,
          12,
          13,
          14
         ],
         "xaxis": "x",
         "y": [
          0.9845,
          0.9840000000000001,
          0.9844,
          0.9833,
          0.9839,
          0.9824,
          0.983,
          0.9823,
          0.9825,
          0.9826,
          0.9821,
          0.9815,
          0.9809,
          0.9812
         ],
         "yaxis": "y"
        },
        {
         "hovertemplate": "n_bit_flips=3<br>coverage=%{x}<br>accuracy=%{y}<extra></extra>",
         "legendgroup": "3",
         "line": {
          "color": "rgb(223.48387096774195, 214.03225806451613, 214.80645161290323)",
          "dash": "solid"
         },
         "mode": "lines",
         "name": "3",
         "orientation": "v",
         "showlegend": true,
         "type": "scatter",
         "x": [
          1,
          2,
          3,
          4,
          5,
          6,
          7,
          8,
          9,
          10,
          11,
          12,
          13,
          14
         ],
         "xaxis": "x",
         "y": [
          0.9844,
          0.9845,
          0.9833,
          0.9833,
          0.9832,
          0.982,
          0.9819,
          0.9828,
          0.9819,
          0.982,
          0.9805,
          0.981,
          0.9806,
          0.98
         ],
         "yaxis": "y"
        },
        {
         "hovertemplate": "n_bit_flips=4<br>coverage=%{x}<br>accuracy=%{y}<extra></extra>",
         "legendgroup": "4",
         "line": {
          "color": "rgb(217.6451612903226, 206.70967741935485, 207.74193548387098)",
          "dash": "solid"
         },
         "mode": "lines",
         "name": "4",
         "orientation": "v",
         "showlegend": true,
         "type": "scatter",
         "x": [
          1,
          2,
          3,
          4,
          5,
          6,
          7,
          8,
          9,
          10,
          11,
          12,
          13,
          14
         ],
         "xaxis": "x",
         "y": [
          0.9841,
          0.9836,
          0.9833,
          0.9821,
          0.9824,
          0.9811,
          0.9817,
          0.9814,
          0.9807,
          0.9796,
          0.9809,
          0.9792,
          0.9787,
          0.9790000000000001
         ],
         "yaxis": "y"
        },
        {
         "hovertemplate": "n_bit_flips=5<br>coverage=%{x}<br>accuracy=%{y}<extra></extra>",
         "legendgroup": "5",
         "line": {
          "color": "rgb(211.80645161290323, 199.38709677419354, 200.67741935483872)",
          "dash": "solid"
         },
         "mode": "lines",
         "name": "5",
         "orientation": "v",
         "showlegend": true,
         "type": "scatter",
         "x": [
          1,
          2,
          3,
          4,
          5,
          6,
          7,
          8,
          9,
          10,
          11,
          12,
          13,
          14
         ],
         "xaxis": "x",
         "y": [
          0.9841,
          0.9839,
          0.9831,
          0.9829,
          0.9818,
          0.981,
          0.9809,
          0.9807,
          0.9799,
          0.9792,
          0.9799,
          0.9779,
          0.9789,
          0.9786
         ],
         "yaxis": "y"
        },
        {
         "hovertemplate": "n_bit_flips=6<br>coverage=%{x}<br>accuracy=%{y}<extra></extra>",
         "legendgroup": "6",
         "line": {
          "color": "rgb(205.96774193548387, 192.06451612903226, 193.61290322580646)",
          "dash": "solid"
         },
         "mode": "lines",
         "name": "6",
         "orientation": "v",
         "showlegend": true,
         "type": "scatter",
         "x": [
          1,
          2,
          3,
          4,
          5,
          6,
          7,
          8,
          9,
          10,
          11,
          12,
          13,
          14
         ],
         "xaxis": "x",
         "y": [
          0.9840000000000001,
          0.9837,
          0.9836,
          0.9823,
          0.9813,
          0.98,
          0.9793,
          0.98,
          0.9774,
          0.9790000000000001,
          0.9771,
          0.9772,
          0.9777,
          0.9754
         ],
         "yaxis": "y"
        },
        {
         "hovertemplate": "n_bit_flips=7<br>coverage=%{x}<br>accuracy=%{y}<extra></extra>",
         "legendgroup": "7",
         "line": {
          "color": "rgb(200.1290322580645, 184.74193548387098, 186.5483870967742)",
          "dash": "solid"
         },
         "mode": "lines",
         "name": "7",
         "orientation": "v",
         "showlegend": true,
         "type": "scatter",
         "x": [
          1,
          2,
          3,
          4,
          5,
          6,
          7,
          8,
          9,
          10,
          11,
          12,
          13,
          14
         ],
         "xaxis": "x",
         "y": [
          0.9842,
          0.9837,
          0.982,
          0.9822,
          0.9815,
          0.9803,
          0.9787,
          0.9783,
          0.9773,
          0.9769,
          0.9767,
          0.9746,
          0.9753,
          0.9734
         ],
         "yaxis": "y"
        },
        {
         "hovertemplate": "n_bit_flips=8<br>coverage=%{x}<br>accuracy=%{y}<extra></extra>",
         "legendgroup": "8",
         "line": {
          "color": "rgb(194.29032258064515, 177.4193548387097, 179.48387096774195)",
          "dash": "solid"
         },
         "mode": "lines",
         "name": "8",
         "orientation": "v",
         "showlegend": true,
         "type": "scatter",
         "x": [
          1,
          2,
          3,
          4,
          5,
          6,
          7,
          8,
          9,
          10,
          11,
          12,
          13,
          14
         ],
         "xaxis": "x",
         "y": [
          0.9842,
          0.983,
          0.9824,
          0.9821,
          0.9812,
          0.9793,
          0.9782,
          0.9784,
          0.978,
          0.9758,
          0.9753,
          0.9759,
          0.9738,
          0.9725
         ],
         "yaxis": "y"
        },
        {
         "hovertemplate": "n_bit_flips=9<br>coverage=%{x}<br>accuracy=%{y}<extra></extra>",
         "legendgroup": "9",
         "line": {
          "color": "rgb(188.4516129032258, 170.09677419354838, 172.4193548387097)",
          "dash": "solid"
         },
         "mode": "lines",
         "name": "9",
         "orientation": "v",
         "showlegend": true,
         "type": "scatter",
         "x": [
          1,
          2,
          3,
          4,
          5,
          6,
          7,
          8,
          9,
          10,
          11,
          12,
          13,
          14
         ],
         "xaxis": "x",
         "y": [
          0.9836,
          0.9829,
          0.982,
          0.9808,
          0.9805,
          0.9802,
          0.9793,
          0.9769,
          0.9769,
          0.975,
          0.9753,
          0.9735,
          0.9728,
          0.9718
         ],
         "yaxis": "y"
        },
        {
         "hovertemplate": "n_bit_flips=10<br>coverage=%{x}<br>accuracy=%{y}<extra></extra>",
         "legendgroup": "10",
         "line": {
          "color": "rgb(182.61290322580646, 162.7741935483871, 165.35483870967744)",
          "dash": "solid"
         },
         "mode": "lines",
         "name": "10",
         "orientation": "v",
         "showlegend": true,
         "type": "scatter",
         "x": [
          1,
          2,
          3,
          4,
          5,
          6,
          7,
          8,
          9,
          10,
          11,
          12,
          13,
          14
         ],
         "xaxis": "x",
         "y": [
          0.9837,
          0.9829,
          0.9814,
          0.9808,
          0.98,
          0.9786,
          0.9785,
          0.978,
          0.9754,
          0.9752,
          0.9756,
          0.9723,
          0.9722,
          0.9703
         ],
         "yaxis": "y"
        },
        {
         "hovertemplate": "n_bit_flips=11<br>coverage=%{x}<br>accuracy=%{y}<extra></extra>",
         "legendgroup": "11",
         "line": {
          "color": "rgb(176.77419354838707, 155.4516129032258, 158.29032258064518)",
          "dash": "solid"
         },
         "mode": "lines",
         "name": "11",
         "orientation": "v",
         "showlegend": true,
         "type": "scatter",
         "x": [
          1,
          2,
          3,
          4,
          5,
          6,
          7,
          8,
          9,
          10,
          11,
          12,
          13,
          14
         ],
         "xaxis": "x",
         "y": [
          0.9834,
          0.9829,
          0.9811,
          0.9814,
          0.9799,
          0.9782,
          0.9785,
          0.9753,
          0.9755,
          0.9747,
          0.9724,
          0.9743,
          0.9717,
          0.9707
         ],
         "yaxis": "y"
        },
        {
         "hovertemplate": "n_bit_flips=12<br>coverage=%{x}<br>accuracy=%{y}<extra></extra>",
         "legendgroup": "12",
         "line": {
          "color": "rgb(170.93548387096774, 148.1290322580645, 151.2258064516129)",
          "dash": "solid"
         },
         "mode": "lines",
         "name": "12",
         "orientation": "v",
         "showlegend": true,
         "type": "scatter",
         "x": [
          1,
          2,
          3,
          4,
          5,
          6,
          7,
          8,
          9,
          10,
          11,
          12,
          13,
          14
         ],
         "xaxis": "x",
         "y": [
          0.9834,
          0.9827,
          0.9813,
          0.9803,
          0.9786,
          0.9797,
          0.9768,
          0.976,
          0.9749,
          0.9724,
          0.9724,
          0.9731,
          0.9705,
          0.9706
         ],
         "yaxis": "y"
        },
        {
         "hovertemplate": "n_bit_flips=13<br>coverage=%{x}<br>accuracy=%{y}<extra></extra>",
         "legendgroup": "13",
         "line": {
          "color": "rgb(165.09677419354838, 140.80645161290323, 144.16129032258064)",
          "dash": "solid"
         },
         "mode": "lines",
         "name": "13",
         "orientation": "v",
         "showlegend": true,
         "type": "scatter",
         "x": [
          1,
          2,
          3,
          4,
          5,
          6,
          7,
          8,
          9,
          10,
          11,
          12,
          13,
          14
         ],
         "xaxis": "x",
         "y": [
          0.9837,
          0.983,
          0.9807,
          0.9799,
          0.9789,
          0.9791,
          0.9763,
          0.9746,
          0.9757,
          0.9739,
          0.9708,
          0.9728,
          0.9699,
          0.9688
         ],
         "yaxis": "y"
        },
        {
         "hovertemplate": "n_bit_flips=14<br>coverage=%{x}<br>accuracy=%{y}<extra></extra>",
         "legendgroup": "14",
         "line": {
          "color": "rgb(159.25806451612902, 133.48387096774195, 137.09677419354838)",
          "dash": "solid"
         },
         "mode": "lines",
         "name": "14",
         "orientation": "v",
         "showlegend": true,
         "type": "scatter",
         "x": [
          1,
          2,
          3,
          4,
          5,
          6,
          7,
          8,
          9,
          10,
          11,
          12,
          13,
          14
         ],
         "xaxis": "x",
         "y": [
          0.9836,
          0.9824,
          0.9808,
          0.9794,
          0.9781,
          0.9785,
          0.9756,
          0.9752,
          0.9739,
          0.9711,
          0.9712,
          0.9713,
          0.9705,
          0.9685
         ],
         "yaxis": "y"
        },
        {
         "hovertemplate": "n_bit_flips=15<br>coverage=%{x}<br>accuracy=%{y}<extra></extra>",
         "legendgroup": "15",
         "line": {
          "color": "rgb(153.4193548387097, 126.16129032258065, 130.03225806451613)",
          "dash": "solid"
         },
         "mode": "lines",
         "name": "15",
         "orientation": "v",
         "showlegend": true,
         "type": "scatter",
         "x": [
          1,
          2,
          3,
          4,
          5,
          6,
          7,
          8,
          9,
          10,
          11,
          12,
          13,
          14
         ],
         "xaxis": "x",
         "y": [
          0.983,
          0.9823,
          0.98,
          0.9803,
          0.9775,
          0.9767,
          0.9772,
          0.9739,
          0.9738,
          0.9735,
          0.9694,
          0.9695,
          0.9678,
          0.9661
         ],
         "yaxis": "y"
        },
        {
         "hovertemplate": "n_bit_flips=16<br>coverage=%{x}<br>accuracy=%{y}<extra></extra>",
         "legendgroup": "16",
         "line": {
          "color": "rgb(147.5806451612903, 118.83870967741936, 122.96774193548387)",
          "dash": "solid"
         },
         "mode": "lines",
         "name": "16",
         "orientation": "v",
         "showlegend": true,
         "type": "scatter",
         "x": [
          1,
          2,
          3,
          4,
          5,
          6,
          7,
          8,
          9,
          10,
          11,
          12,
          13,
          14
         ],
         "xaxis": "x",
         "y": [
          0.9836,
          0.9813,
          0.9804,
          0.9807,
          0.9776,
          0.9768,
          0.9754,
          0.9742,
          0.9728,
          0.9724,
          0.9708,
          0.9678,
          0.9677,
          0.9637
         ],
         "yaxis": "y"
        },
        {
         "hovertemplate": "n_bit_flips=17<br>coverage=%{x}<br>accuracy=%{y}<extra></extra>",
         "legendgroup": "17",
         "line": {
          "color": "rgb(141.74193548387098, 111.51612903225806, 115.90322580645162)",
          "dash": "solid"
         },
         "mode": "lines",
         "name": "17",
         "orientation": "v",
         "showlegend": true,
         "type": "scatter",
         "x": [
          1,
          2,
          3,
          4,
          5,
          6,
          7,
          8,
          9,
          10,
          11,
          12,
          13,
          14
         ],
         "xaxis": "x",
         "y": [
          0.9838,
          0.9826,
          0.9807,
          0.9801,
          0.9794,
          0.9764,
          0.9756,
          0.973,
          0.9725,
          0.9705,
          0.9696,
          0.9696,
          0.9668,
          0.9677
         ],
         "yaxis": "y"
        },
        {
         "hovertemplate": "n_bit_flips=18<br>coverage=%{x}<br>accuracy=%{y}<extra></extra>",
         "legendgroup": "18",
         "line": {
          "color": "rgb(135.90322580645162, 104.19354838709677, 108.83870967741936)",
          "dash": "solid"
         },
         "mode": "lines",
         "name": "18",
         "orientation": "v",
         "showlegend": true,
         "type": "scatter",
         "x": [
          1,
          2,
          3,
          4,
          5,
          6,
          7,
          8,
          9,
          10,
          11,
          12,
          13,
          14
         ],
         "xaxis": "x",
         "y": [
          0.9839,
          0.9811,
          0.9794,
          0.9796,
          0.9762,
          0.9774,
          0.9761,
          0.9738,
          0.9703,
          0.9719,
          0.9690000000000001,
          0.968,
          0.9678,
          0.9659
         ],
         "yaxis": "y"
        },
        {
         "hovertemplate": "n_bit_flips=19<br>coverage=%{x}<br>accuracy=%{y}<extra></extra>",
         "legendgroup": "19",
         "line": {
          "color": "rgb(130.06451612903226, 96.87096774193549, 101.7741935483871)",
          "dash": "solid"
         },
         "mode": "lines",
         "name": "19",
         "orientation": "v",
         "showlegend": true,
         "type": "scatter",
         "x": [
          1,
          2,
          3,
          4,
          5,
          6,
          7,
          8,
          9,
          10,
          11,
          12,
          13,
          14
         ],
         "xaxis": "x",
         "y": [
          0.9831,
          0.9822,
          0.9797,
          0.9786,
          0.9768,
          0.9772,
          0.9742,
          0.9753,
          0.9732,
          0.9714,
          0.9686,
          0.9657,
          0.9664,
          0.9621
         ],
         "yaxis": "y"
        },
        {
         "hovertemplate": "n_bit_flips=20<br>coverage=%{x}<br>accuracy=%{y}<extra></extra>",
         "legendgroup": "20",
         "line": {
          "color": "rgb(124.2258064516129, 89.5483870967742, 94.70967741935485)",
          "dash": "solid"
         },
         "mode": "lines",
         "name": "20",
         "orientation": "v",
         "showlegend": true,
         "type": "scatter",
         "x": [
          1,
          2,
          3,
          4,
          5,
          6,
          7,
          8,
          9,
          10,
          11,
          12,
          13,
          14
         ],
         "xaxis": "x",
         "y": [
          0.9833,
          0.981,
          0.9804,
          0.9790000000000001,
          0.977,
          0.9776,
          0.9745,
          0.973,
          0.9698,
          0.9723,
          0.9685,
          0.9668,
          0.9683,
          0.9645
         ],
         "yaxis": "y"
        },
        {
         "hovertemplate": "n_bit_flips=21<br>coverage=%{x}<br>accuracy=%{y}<extra></extra>",
         "legendgroup": "21",
         "line": {
          "color": "rgb(118.38709677419355, 82.2258064516129, 87.64516129032259)",
          "dash": "solid"
         },
         "mode": "lines",
         "name": "21",
         "orientation": "v",
         "showlegend": true,
         "type": "scatter",
         "x": [
          1,
          2,
          3,
          4,
          5,
          6,
          7,
          8,
          9,
          10,
          11,
          12,
          13,
          14
         ],
         "xaxis": "x",
         "y": [
          0.9833,
          0.9821,
          0.9803,
          0.9782,
          0.9775,
          0.9765,
          0.9761,
          0.9745,
          0.9721,
          0.9718,
          0.9696,
          0.9687,
          0.9672,
          0.9675
         ],
         "yaxis": "y"
        },
        {
         "hovertemplate": "n_bit_flips=22<br>coverage=%{x}<br>accuracy=%{y}<extra></extra>",
         "legendgroup": "22",
         "line": {
          "color": "rgb(112.54838709677418, 74.90322580645162, 80.58064516129033)",
          "dash": "solid"
         },
         "mode": "lines",
         "name": "22",
         "orientation": "v",
         "showlegend": true,
         "type": "scatter",
         "x": [
          1,
          2,
          3,
          4,
          5,
          6,
          7,
          8,
          9,
          10,
          11,
          12,
          13,
          14
         ],
         "xaxis": "x",
         "y": [
          0.9833,
          0.9817,
          0.9799,
          0.9798,
          0.9787,
          0.9752,
          0.9753,
          0.9735,
          0.9713,
          0.9724,
          0.9707,
          0.9684,
          0.9687,
          0.9665
         ],
         "yaxis": "y"
        },
        {
         "hovertemplate": "n_bit_flips=23<br>coverage=%{x}<br>accuracy=%{y}<extra></extra>",
         "legendgroup": "23",
         "line": {
          "color": "rgb(106.70967741935485, 67.58064516129033, 73.51612903225808)",
          "dash": "solid"
         },
         "mode": "lines",
         "name": "23",
         "orientation": "v",
         "showlegend": true,
         "type": "scatter",
         "x": [
          1,
          2,
          3,
          4,
          5,
          6,
          7,
          8,
          9,
          10,
          11,
          12,
          13,
          14
         ],
         "xaxis": "x",
         "y": [
          0.9831,
          0.9828,
          0.9807,
          0.9803,
          0.9767,
          0.9769,
          0.9756,
          0.9736,
          0.972,
          0.9711,
          0.9690000000000001,
          0.9689,
          0.9670000000000001,
          0.9661
         ],
         "yaxis": "y"
        },
        {
         "hovertemplate": "n_bit_flips=24<br>coverage=%{x}<br>accuracy=%{y}<extra></extra>",
         "legendgroup": "24",
         "line": {
          "color": "rgb(100.87096774193549, 60.258064516129025, 66.4516129032258)",
          "dash": "solid"
         },
         "mode": "lines",
         "name": "24",
         "orientation": "v",
         "showlegend": true,
         "type": "scatter",
         "x": [
          1,
          2,
          3,
          4,
          5,
          6,
          7,
          8,
          9,
          10,
          11,
          12,
          13,
          14
         ],
         "xaxis": "x",
         "y": [
          0.9831,
          0.9821,
          0.9804,
          0.9806,
          0.9787,
          0.9765,
          0.9757,
          0.9741,
          0.9729,
          0.9706,
          0.9718,
          0.9684,
          0.9681,
          0.9654
         ],
         "yaxis": "y"
        },
        {
         "hovertemplate": "n_bit_flips=25<br>coverage=%{x}<br>accuracy=%{y}<extra></extra>",
         "legendgroup": "25",
         "line": {
          "color": "rgb(95.03225806451613, 52.935483870967744, 59.38709677419354)",
          "dash": "solid"
         },
         "mode": "lines",
         "name": "25",
         "orientation": "v",
         "showlegend": true,
         "type": "scatter",
         "x": [
          1,
          2,
          3,
          4,
          5,
          6,
          7,
          8,
          9,
          10,
          11,
          12,
          13,
          14
         ],
         "xaxis": "x",
         "y": [
          0.9831,
          0.9825,
          0.9821,
          0.98,
          0.9787,
          0.9786,
          0.977,
          0.9736,
          0.9738,
          0.972,
          0.9694,
          0.9702,
          0.968,
          0.9695
         ],
         "yaxis": "y"
        },
        {
         "hovertemplate": "n_bit_flips=26<br>coverage=%{x}<br>accuracy=%{y}<extra></extra>",
         "legendgroup": "26",
         "line": {
          "color": "rgb(89.19354838709677, 45.61290322580646, 52.32258064516128)",
          "dash": "solid"
         },
         "mode": "lines",
         "name": "26",
         "orientation": "v",
         "showlegend": true,
         "type": "scatter",
         "x": [
          1,
          2,
          3,
          4,
          5,
          6,
          7,
          8,
          9,
          10,
          11,
          12,
          13,
          14
         ],
         "xaxis": "x",
         "y": [
          0.9833,
          0.9824,
          0.9807,
          0.9806,
          0.9794,
          0.9766,
          0.9742,
          0.9751,
          0.9740000000000001,
          0.9746,
          0.9723,
          0.9689,
          0.9723,
          0.9683
         ],
         "yaxis": "y"
        },
        {
         "hovertemplate": "n_bit_flips=27<br>coverage=%{x}<br>accuracy=%{y}<extra></extra>",
         "legendgroup": "27",
         "line": {
          "color": "rgb(83.35483870967741, 38.29032258064518, 45.258064516129025)",
          "dash": "solid"
         },
         "mode": "lines",
         "name": "27",
         "orientation": "v",
         "showlegend": true,
         "type": "scatter",
         "x": [
          1,
          2,
          3,
          4,
          5,
          6,
          7,
          8,
          9,
          10,
          11,
          12,
          13,
          14
         ],
         "xaxis": "x",
         "y": [
          0.9836,
          0.9828,
          0.9816,
          0.98,
          0.9787,
          0.9791,
          0.9782,
          0.9761,
          0.9751,
          0.9739,
          0.9733,
          0.9707,
          0.9715,
          0.9718
         ],
         "yaxis": "y"
        },
        {
         "hovertemplate": "n_bit_flips=28<br>coverage=%{x}<br>accuracy=%{y}<extra></extra>",
         "legendgroup": "28",
         "line": {
          "color": "rgb(77.51612903225805, 30.967741935483872, 38.19354838709677)",
          "dash": "solid"
         },
         "mode": "lines",
         "name": "28",
         "orientation": "v",
         "showlegend": true,
         "type": "scatter",
         "x": [
          1,
          2,
          3,
          4,
          5,
          6,
          7,
          8,
          9,
          10,
          11,
          12,
          13,
          14
         ],
         "xaxis": "x",
         "y": [
          0.9838,
          0.9835,
          0.9814,
          0.9814,
          0.9794,
          0.9783,
          0.9768,
          0.9782,
          0.9743,
          0.9759,
          0.9739,
          0.9739,
          0.9728,
          0.972
         ],
         "yaxis": "y"
        },
        {
         "hovertemplate": "n_bit_flips=29<br>coverage=%{x}<br>accuracy=%{y}<extra></extra>",
         "legendgroup": "29",
         "line": {
          "color": "rgb(71.67741935483872, 23.64516129032259, 31.129032258064512)",
          "dash": "solid"
         },
         "mode": "lines",
         "name": "29",
         "orientation": "v",
         "showlegend": true,
         "type": "scatter",
         "x": [
          1,
          2,
          3,
          4,
          5,
          6,
          7,
          8,
          9,
          10,
          11,
          12,
          13,
          14
         ],
         "xaxis": "x",
         "y": [
          0.9841,
          0.9832,
          0.9822,
          0.9813,
          0.9803,
          0.9806,
          0.9798,
          0.9789,
          0.9777,
          0.9765,
          0.9768,
          0.9745,
          0.9744,
          0.9725
         ],
         "yaxis": "y"
        },
        {
         "hovertemplate": "n_bit_flips=30<br>coverage=%{x}<br>accuracy=%{y}<extra></extra>",
         "legendgroup": "30",
         "line": {
          "color": "rgb(65.83870967741936, 16.32258064516131, 24.064516129032256)",
          "dash": "solid"
         },
         "mode": "lines",
         "name": "30",
         "orientation": "v",
         "showlegend": true,
         "type": "scatter",
         "x": [
          1,
          2,
          3,
          4,
          5,
          6,
          7,
          8,
          9,
          10,
          11,
          12,
          13,
          14
         ],
         "xaxis": "x",
         "y": [
          0.9842,
          0.9833,
          0.9829,
          0.9822,
          0.9819,
          0.9805,
          0.9806,
          0.9801,
          0.9798,
          0.9797,
          0.9782,
          0.9781,
          0.9774,
          0.975
         ],
         "yaxis": "y"
        },
        {
         "hovertemplate": "n_bit_flips=31<br>coverage=%{x}<br>accuracy=%{y}<extra></extra>",
         "legendgroup": "31",
         "line": {
          "color": "rgb(60.0, 9.0, 17.0)",
          "dash": "solid"
         },
         "mode": "lines",
         "name": "31",
         "orientation": "v",
         "showlegend": true,
         "type": "scatter",
         "x": [
          1,
          2,
          3,
          4,
          5,
          6,
          7,
          8,
          9,
          10,
          11,
          12,
          13,
          14
         ],
         "xaxis": "x",
         "y": [
          0.9844,
          0.9837,
          0.9837,
          0.9837,
          0.9826,
          0.9822,
          0.9814,
          0.9822,
          0.9813,
          0.9807,
          0.9809,
          0.9799,
          0.9792,
          0.9787
         ],
         "yaxis": "y"
        }
       ],
       "layout": {
        "legend": {
         "title": {
          "text": "n_bit_flips"
         },
         "tracegroupgap": 0
        },
        "margin": {
         "b": 10,
         "l": 10,
         "r": 10,
         "t": 10
        },
        "showlegend": false,
        "template": {
         "data": {
          "bar": [
           {
            "error_x": {
             "color": "#2a3f5f"
            },
            "error_y": {
             "color": "#2a3f5f"
            },
            "marker": {
             "line": {
              "color": "white",
              "width": 0.5
             }
            },
            "type": "bar"
           }
          ],
          "barpolar": [
           {
            "marker": {
             "line": {
              "color": "white",
              "width": 0.5
             }
            },
            "type": "barpolar"
           }
          ],
          "carpet": [
           {
            "aaxis": {
             "endlinecolor": "#2a3f5f",
             "gridcolor": "#C8D4E3",
             "linecolor": "#C8D4E3",
             "minorgridcolor": "#C8D4E3",
             "startlinecolor": "#2a3f5f"
            },
            "baxis": {
             "endlinecolor": "#2a3f5f",
             "gridcolor": "#C8D4E3",
             "linecolor": "#C8D4E3",
             "minorgridcolor": "#C8D4E3",
             "startlinecolor": "#2a3f5f"
            },
            "type": "carpet"
           }
          ],
          "choropleth": [
           {
            "colorbar": {
             "outlinewidth": 0,
             "ticks": ""
            },
            "type": "choropleth"
           }
          ],
          "contour": [
           {
            "colorbar": {
             "outlinewidth": 0,
             "ticks": ""
            },
            "colorscale": [
             [
              0,
              "#0d0887"
             ],
             [
              0.1111111111111111,
              "#46039f"
             ],
             [
              0.2222222222222222,
              "#7201a8"
             ],
             [
              0.3333333333333333,
              "#9c179e"
             ],
             [
              0.4444444444444444,
              "#bd3786"
             ],
             [
              0.5555555555555556,
              "#d8576b"
             ],
             [
              0.6666666666666666,
              "#ed7953"
             ],
             [
              0.7777777777777778,
              "#fb9f3a"
             ],
             [
              0.8888888888888888,
              "#fdca26"
             ],
             [
              1,
              "#f0f921"
             ]
            ],
            "type": "contour"
           }
          ],
          "contourcarpet": [
           {
            "colorbar": {
             "outlinewidth": 0,
             "ticks": ""
            },
            "type": "contourcarpet"
           }
          ],
          "heatmap": [
           {
            "colorbar": {
             "outlinewidth": 0,
             "ticks": ""
            },
            "colorscale": [
             [
              0,
              "#0d0887"
             ],
             [
              0.1111111111111111,
              "#46039f"
             ],
             [
              0.2222222222222222,
              "#7201a8"
             ],
             [
              0.3333333333333333,
              "#9c179e"
             ],
             [
              0.4444444444444444,
              "#bd3786"
             ],
             [
              0.5555555555555556,
              "#d8576b"
             ],
             [
              0.6666666666666666,
              "#ed7953"
             ],
             [
              0.7777777777777778,
              "#fb9f3a"
             ],
             [
              0.8888888888888888,
              "#fdca26"
             ],
             [
              1,
              "#f0f921"
             ]
            ],
            "type": "heatmap"
           }
          ],
          "heatmapgl": [
           {
            "colorbar": {
             "outlinewidth": 0,
             "ticks": ""
            },
            "colorscale": [
             [
              0,
              "#0d0887"
             ],
             [
              0.1111111111111111,
              "#46039f"
             ],
             [
              0.2222222222222222,
              "#7201a8"
             ],
             [
              0.3333333333333333,
              "#9c179e"
             ],
             [
              0.4444444444444444,
              "#bd3786"
             ],
             [
              0.5555555555555556,
              "#d8576b"
             ],
             [
              0.6666666666666666,
              "#ed7953"
             ],
             [
              0.7777777777777778,
              "#fb9f3a"
             ],
             [
              0.8888888888888888,
              "#fdca26"
             ],
             [
              1,
              "#f0f921"
             ]
            ],
            "type": "heatmapgl"
           }
          ],
          "histogram": [
           {
            "marker": {
             "colorbar": {
              "outlinewidth": 0,
              "ticks": ""
             }
            },
            "type": "histogram"
           }
          ],
          "histogram2d": [
           {
            "colorbar": {
             "outlinewidth": 0,
             "ticks": ""
            },
            "colorscale": [
             [
              0,
              "#0d0887"
             ],
             [
              0.1111111111111111,
              "#46039f"
             ],
             [
              0.2222222222222222,
              "#7201a8"
             ],
             [
              0.3333333333333333,
              "#9c179e"
             ],
             [
              0.4444444444444444,
              "#bd3786"
             ],
             [
              0.5555555555555556,
              "#d8576b"
             ],
             [
              0.6666666666666666,
              "#ed7953"
             ],
             [
              0.7777777777777778,
              "#fb9f3a"
             ],
             [
              0.8888888888888888,
              "#fdca26"
             ],
             [
              1,
              "#f0f921"
             ]
            ],
            "type": "histogram2d"
           }
          ],
          "histogram2dcontour": [
           {
            "colorbar": {
             "outlinewidth": 0,
             "ticks": ""
            },
            "colorscale": [
             [
              0,
              "#0d0887"
             ],
             [
              0.1111111111111111,
              "#46039f"
             ],
             [
              0.2222222222222222,
              "#7201a8"
             ],
             [
              0.3333333333333333,
              "#9c179e"
             ],
             [
              0.4444444444444444,
              "#bd3786"
             ],
             [
              0.5555555555555556,
              "#d8576b"
             ],
             [
              0.6666666666666666,
              "#ed7953"
             ],
             [
              0.7777777777777778,
              "#fb9f3a"
             ],
             [
              0.8888888888888888,
              "#fdca26"
             ],
             [
              1,
              "#f0f921"
             ]
            ],
            "type": "histogram2dcontour"
           }
          ],
          "mesh3d": [
           {
            "colorbar": {
             "outlinewidth": 0,
             "ticks": ""
            },
            "type": "mesh3d"
           }
          ],
          "parcoords": [
           {
            "line": {
             "colorbar": {
              "outlinewidth": 0,
              "ticks": ""
             }
            },
            "type": "parcoords"
           }
          ],
          "pie": [
           {
            "automargin": true,
            "type": "pie"
           }
          ],
          "scatter": [
           {
            "marker": {
             "colorbar": {
              "outlinewidth": 0,
              "ticks": ""
             }
            },
            "type": "scatter"
           }
          ],
          "scatter3d": [
           {
            "line": {
             "colorbar": {
              "outlinewidth": 0,
              "ticks": ""
             }
            },
            "marker": {
             "colorbar": {
              "outlinewidth": 0,
              "ticks": ""
             }
            },
            "type": "scatter3d"
           }
          ],
          "scattercarpet": [
           {
            "marker": {
             "colorbar": {
              "outlinewidth": 0,
              "ticks": ""
             }
            },
            "type": "scattercarpet"
           }
          ],
          "scattergeo": [
           {
            "marker": {
             "colorbar": {
              "outlinewidth": 0,
              "ticks": ""
             }
            },
            "type": "scattergeo"
           }
          ],
          "scattergl": [
           {
            "marker": {
             "colorbar": {
              "outlinewidth": 0,
              "ticks": ""
             }
            },
            "type": "scattergl"
           }
          ],
          "scattermapbox": [
           {
            "marker": {
             "colorbar": {
              "outlinewidth": 0,
              "ticks": ""
             }
            },
            "type": "scattermapbox"
           }
          ],
          "scatterpolar": [
           {
            "marker": {
             "colorbar": {
              "outlinewidth": 0,
              "ticks": ""
             }
            },
            "type": "scatterpolar"
           }
          ],
          "scatterpolargl": [
           {
            "marker": {
             "colorbar": {
              "outlinewidth": 0,
              "ticks": ""
             }
            },
            "type": "scatterpolargl"
           }
          ],
          "scatterternary": [
           {
            "marker": {
             "colorbar": {
              "outlinewidth": 0,
              "ticks": ""
             }
            },
            "type": "scatterternary"
           }
          ],
          "surface": [
           {
            "colorbar": {
             "outlinewidth": 0,
             "ticks": ""
            },
            "colorscale": [
             [
              0,
              "#0d0887"
             ],
             [
              0.1111111111111111,
              "#46039f"
             ],
             [
              0.2222222222222222,
              "#7201a8"
             ],
             [
              0.3333333333333333,
              "#9c179e"
             ],
             [
              0.4444444444444444,
              "#bd3786"
             ],
             [
              0.5555555555555556,
              "#d8576b"
             ],
             [
              0.6666666666666666,
              "#ed7953"
             ],
             [
              0.7777777777777778,
              "#fb9f3a"
             ],
             [
              0.8888888888888888,
              "#fdca26"
             ],
             [
              1,
              "#f0f921"
             ]
            ],
            "type": "surface"
           }
          ],
          "table": [
           {
            "cells": {
             "fill": {
              "color": "#EBF0F8"
             },
             "line": {
              "color": "white"
             }
            },
            "header": {
             "fill": {
              "color": "#C8D4E3"
             },
             "line": {
              "color": "white"
             }
            },
            "type": "table"
           }
          ]
         },
         "layout": {
          "annotationdefaults": {
           "arrowcolor": "#2a3f5f",
           "arrowhead": 0,
           "arrowwidth": 1
          },
          "coloraxis": {
           "colorbar": {
            "outlinewidth": 0,
            "ticks": ""
           }
          },
          "colorscale": {
           "diverging": [
            [
             0,
             "#8e0152"
            ],
            [
             0.1,
             "#c51b7d"
            ],
            [
             0.2,
             "#de77ae"
            ],
            [
             0.3,
             "#f1b6da"
            ],
            [
             0.4,
             "#fde0ef"
            ],
            [
             0.5,
             "#f7f7f7"
            ],
            [
             0.6,
             "#e6f5d0"
            ],
            [
             0.7,
             "#b8e186"
            ],
            [
             0.8,
             "#7fbc41"
            ],
            [
             0.9,
             "#4d9221"
            ],
            [
             1,
             "#276419"
            ]
           ],
           "sequential": [
            [
             0,
             "#0d0887"
            ],
            [
             0.1111111111111111,
             "#46039f"
            ],
            [
             0.2222222222222222,
             "#7201a8"
            ],
            [
             0.3333333333333333,
             "#9c179e"
            ],
            [
             0.4444444444444444,
             "#bd3786"
            ],
            [
             0.5555555555555556,
             "#d8576b"
            ],
            [
             0.6666666666666666,
             "#ed7953"
            ],
            [
             0.7777777777777778,
             "#fb9f3a"
            ],
            [
             0.8888888888888888,
             "#fdca26"
            ],
            [
             1,
             "#f0f921"
            ]
           ],
           "sequentialminus": [
            [
             0,
             "#0d0887"
            ],
            [
             0.1111111111111111,
             "#46039f"
            ],
            [
             0.2222222222222222,
             "#7201a8"
            ],
            [
             0.3333333333333333,
             "#9c179e"
            ],
            [
             0.4444444444444444,
             "#bd3786"
            ],
            [
             0.5555555555555556,
             "#d8576b"
            ],
            [
             0.6666666666666666,
             "#ed7953"
            ],
            [
             0.7777777777777778,
             "#fb9f3a"
            ],
            [
             0.8888888888888888,
             "#fdca26"
            ],
            [
             1,
             "#f0f921"
            ]
           ]
          },
          "colorway": [
           "#636efa",
           "#EF553B",
           "#00cc96",
           "#ab63fa",
           "#FFA15A",
           "#19d3f3",
           "#FF6692",
           "#B6E880",
           "#FF97FF",
           "#FECB52"
          ],
          "font": {
           "color": "#2a3f5f"
          },
          "geo": {
           "bgcolor": "white",
           "lakecolor": "white",
           "landcolor": "white",
           "showlakes": true,
           "showland": true,
           "subunitcolor": "#C8D4E3"
          },
          "hoverlabel": {
           "align": "left"
          },
          "hovermode": "closest",
          "mapbox": {
           "style": "light"
          },
          "paper_bgcolor": "white",
          "plot_bgcolor": "white",
          "polar": {
           "angularaxis": {
            "gridcolor": "#EBF0F8",
            "linecolor": "#EBF0F8",
            "ticks": ""
           },
           "bgcolor": "white",
           "radialaxis": {
            "gridcolor": "#EBF0F8",
            "linecolor": "#EBF0F8",
            "ticks": ""
           }
          },
          "scene": {
           "xaxis": {
            "backgroundcolor": "white",
            "gridcolor": "#DFE8F3",
            "gridwidth": 2,
            "linecolor": "#EBF0F8",
            "showbackground": true,
            "ticks": "",
            "zerolinecolor": "#EBF0F8"
           },
           "yaxis": {
            "backgroundcolor": "white",
            "gridcolor": "#DFE8F3",
            "gridwidth": 2,
            "linecolor": "#EBF0F8",
            "showbackground": true,
            "ticks": "",
            "zerolinecolor": "#EBF0F8"
           },
           "zaxis": {
            "backgroundcolor": "white",
            "gridcolor": "#DFE8F3",
            "gridwidth": 2,
            "linecolor": "#EBF0F8",
            "showbackground": true,
            "ticks": "",
            "zerolinecolor": "#EBF0F8"
           }
          },
          "shapedefaults": {
           "line": {
            "color": "#2a3f5f"
           }
          },
          "ternary": {
           "aaxis": {
            "gridcolor": "#DFE8F3",
            "linecolor": "#A2B1C6",
            "ticks": ""
           },
           "baxis": {
            "gridcolor": "#DFE8F3",
            "linecolor": "#A2B1C6",
            "ticks": ""
           },
           "bgcolor": "white",
           "caxis": {
            "gridcolor": "#DFE8F3",
            "linecolor": "#A2B1C6",
            "ticks": ""
           }
          },
          "title": {
           "x": 0.05
          },
          "xaxis": {
           "automargin": true,
           "gridcolor": "#EBF0F8",
           "linecolor": "#EBF0F8",
           "ticks": "",
           "title": {
            "standoff": 15
           },
           "zerolinecolor": "#EBF0F8",
           "zerolinewidth": 2
          },
          "yaxis": {
           "automargin": true,
           "gridcolor": "#EBF0F8",
           "linecolor": "#EBF0F8",
           "ticks": "",
           "title": {
            "standoff": 15
           },
           "zerolinecolor": "#EBF0F8",
           "zerolinewidth": 2
          }
         }
        },
        "xaxis": {
         "anchor": "y",
         "domain": [
          0,
          1
         ],
         "linecolor": "black",
         "linewidth": 2,
         "mirror": true,
         "showgrid": false,
         "showline": true,
         "title": {
          "text": "coverage"
         },
         "zeroline": false
        },
        "yaxis": {
         "anchor": "x",
         "domain": [
          0,
          1
         ],
         "linecolor": "black",
         "linewidth": 2,
         "mirror": true,
         "showgrid": false,
         "showline": true,
         "title": {
          "text": "accuracy"
         },
         "zeroline": false
        }
       }
      }
     },
     "metadata": {}
    }
   ],
   "source": [
    "import pandas\n",
    "import plotly\n",
    "import plotly.subplots\n",
    "import plotly.express\n",
    "\n",
    "df = pandas.read_csv('../test_n_elements_LeNet5.csv')\n",
    "\n",
    "# layers = ['c1', 'relu1', 's2', 'c3', 'relu3', 's4', 'c5', 'relu5', 'f6', 'relu6', 'f7', 'sig7']\n",
    "# layers = ['conv0', 'act0',\n",
    "#           'pool1',\n",
    "#           'conv2', 'act2',\n",
    "#           'pool3',\n",
    "#           'conv4', 'act4',\n",
    "#           'conv5', 'act5',\n",
    "#           'pool6',\n",
    "#           'conv7', 'act7',\n",
    "#           'conv8', 'act8',\n",
    "#           'pool9',\n",
    "#           'conv10', 'act10',\n",
    "#           'conv11', 'act11',\n",
    "#           'pool12',\n",
    "#           'classifier_dropout0', 'classifier_fc0', 'classifier_act0',\n",
    "#           'classifier_dropout1', 'classifier_fc1', 'classifier_act1',\n",
    "#           'classifier_fc2']\n",
    "layer = 'c1'\n",
    "\n",
    "#df[(df['layer'] == 'c1') & (df['coverage'] == 0.001)]\n",
    "\n",
    "#fig = plotly.subplots.make_subplots(rows=1, cols=2)\n",
    "\n",
    "#fig.add_scatter(x=df[(df['layer'] == 'c1') & (df['coverage'] == 0.001)]['n_bit_flips'], y=df[(df['layer'] == 'c1') & (df['coverage'] == 0.001)]['loss'], row=1, col=1)\n",
    "\n",
    "#fig.add_scatter(x=df[(df['layer'] == 'c1') & (df['coverage'] == 0.002)]['n_bit_flips'], y=df[(df['layer'] == 'c1') & (df['coverage'] == 0.002)]['loss'], row=1, col=1)\n",
    "\n",
    "#fig.add_scatter(x=df[(df['layer'] == 'c1') & (df['coverage'] == 0.001)]['n_bit_flips'], y=df[(df['layer'] == 'c1') & (df['coverage'] == 0.001)]['loss'], row=1, col=2)\n",
    "\n",
    "\n",
    "colors = plotly.colors.n_colors(plotly.express.colors.sequential.amp[0], plotly.express.colors.sequential.amp[-1], len(set(df['n_bit_flips'])), colortype='rgb')\n",
    "fig = plotly.express.line(df[df['layer'] == layer], color='n_bit_flips', x=\"coverage\", y=\"accuracy\", title='', template='plotly_white', color_discrete_sequence=colors)\n",
    "#colors = plotly.colors.n_colors(plotly.express.colors.sequential.amp[0], plotly.express.colors.sequential.amp[-1], len(set(df['coverage'])), colortype='rgb')\n",
    "#fig = plotly.express.line(df[df['layer'] == layer], color='coverage', x=\"n_bit_flips\", y=\"accuracy\", title='', template='plotly_white', color_discrete_sequence=colors)\n",
    "fig.update_layout(xaxis=dict(showgrid=False, zeroline=False,showline=True, linewidth=2, linecolor='black', mirror=True), yaxis=dict(showgrid=False, zeroline=False,showline=True, linewidth=2, linecolor='black', mirror=True), margin={'l': 10, 'r': 10, 't': 10, 'b': 10})\n",
    "fig.update_layout(showlegend=False)\n",
    "fig.show()"
   ]
  },
  {
   "cell_type": "code",
   "execution_count": null,
   "metadata": {},
   "outputs": [],
   "source": [
    "# hvplot tests\n",
    "import pandas\n",
    "import hvplot.pandas\n",
    "import holoviews\n",
    "import holoviews.plotting.util\n",
    "\n",
    "df = pandas.read_csv('../dataset/parsec_test_singlepass_raw.csv', index_col=[0], header=[0]).T\n",
    "\n",
    "plot = df.hvplot.heatmap(\n",
    "    x='columns', \n",
    "    y='index',\n",
    "    flip_yaxis=True,\n",
    "    #title='Spearman Correlation',\n",
    "    colorbar=True,\n",
    "    xaxis='top', \n",
    "    rot=90,\n",
    "    # plot dimension in pixels\n",
    "    width=1500, height=1500,\n",
    "    fontscale=1.5,\n",
    "    ).opts(\n",
    "    toolbar='disable',\n",
    "    #fontsize={'title': 18, 'xticks': 8, 'yticks': 8},\n",
    "    cmap=holoviews.plotting.util.process_cmap('Magma')\n",
    "    )\n",
    "\n",
    "holoviews.save(plot, 'test.pdf')"
   ]
  },
  {
   "cell_type": "code",
   "execution_count": null,
   "metadata": {},
   "outputs": [],
   "source": [
    "# holoviews tests\n",
    "import itertools\n",
    "\n",
    "import pandas\n",
    "import hvplot.pandas\n",
    "import holoviews.plotting.util\n",
    "import holoviews\n",
    "holoviews.extension('matplotlib')\n",
    "\n",
    "df = pandas.read_csv('../dataset/parsec_test_singlepass_raw.csv', index_col=[0], header=[0]).T\n",
    "df = df.drop('DynamicEnergy', axis=1)\n",
    "\n",
    "df = df.corr(method='spearman')\n",
    "\n",
    "holoviews.HeatMap([(x, y, df.iloc[x, y]) for x, y in itertools.product(range(len(df.index)), range(len(df.columns)))]).opts(\n",
    "    colorbar=True,\n",
    "    xaxis='top', \n",
    "    # plot dimension in pixels\n",
    "    width=1500, height=1500,\n",
    "    fontscale=1.5,).opts(\n",
    "    toolbar='disable',\n",
    "    #fontsize={'title': 18, 'xticks': 8, 'yticks': 8},\n",
    "    cmap=holoviews.plotting.util.process_cmap('Magma')\n",
    "    )"
   ]
  },
  {
   "cell_type": "code",
   "execution_count": 1,
   "metadata": {
    "tags": []
   },
   "outputs": [
    {
     "output_type": "stream",
     "name": "stdout",
     "text": "\u001b[1;32mParameters of 'HeatMap'\n=======================\n\u001b[0m\n\u001b[1;31mParameters changed from their default values are marked in red.\u001b[0m\n\u001b[1;36mSoft bound values are marked in cyan.\u001b[0m\nC/V= Constant/Variable, RO/RW = ReadOnly/ReadWrite, AN=Allow None\n\n\u001b[1;34mName                        Value                     Type     Bounds   Mode \u001b[0m\n\ncdims                   OrderedDict()                 Dict              V RW \ndatatype   ['dataframe', 'dictionary', 'grid', '...   List   (0, None)  V RW \nextents            (None, None, None, None)          Tuple              V RW \ngroup                     'HeatMap'                  String             C RW \nkdims          [Dimension('x'), Dimension('y')]       List     (2, 2)   C RW \nlabel                         ''                     String             C RW \nvdims                  [Dimension('z')]               List   (0, None)  C RW \n\n\u001b[1;32mParameter docstrings:\n=====================\u001b[0m\n\n\u001b[1;34mcdims:    The constant dimensions defined as a dictionary of Dimension:value\u001b[0m\n\u001b[1;34m          pairs providing additional dimension information about the object.\u001b[0m\n\u001b[1;34m          \u001b[0m\n\u001b[1;34m          Aliased with constant_dimensions.\u001b[0m\n\u001b[1;31mdatatype: A priority list of the data types to be used for storage\u001b[0m\n\u001b[1;31m          on the .data attribute. If the input supplied to the element\u001b[0m\n\u001b[1;31m          constructor cannot be put into the requested format, the next\u001b[0m\n\u001b[1;31m          format listed will be used until a suitable format is found (or\u001b[0m\n\u001b[1;31m          the data fails to be understood).\u001b[0m\n\u001b[1;34mextents:  Allows overriding the extents of the Element in 2D space defined\u001b[0m\n\u001b[1;34m          as four-tuple defining the (left, bottom, right and top) edges.\u001b[0m\n\u001b[1;31mgroup:    A string describing the data wrapped by the object.\u001b[0m\n\u001b[1;34mkdims:    The key dimensions defined as list of dimensions that may be\u001b[0m\n\u001b[1;34m          used in indexing (and potential slicing) semantics. The order\u001b[0m\n\u001b[1;34m          of the dimensions listed here determines the semantics of each\u001b[0m\n\u001b[1;34m          component of a multi-dimensional indexing operation.\u001b[0m\n\u001b[1;34m          \u001b[0m\n\u001b[1;34m          Aliased with key_dimensions.\u001b[0m\n\u001b[1;31mlabel:    Optional label describing the data, typically reflecting where\u001b[0m\n\u001b[1;31m          or how it was measured. The label should allow a specific\u001b[0m\n\u001b[1;31m          measurement or dataset to be referenced for a given group.\u001b[0m\n\u001b[1;34mvdims:    The value dimensions defined as the list of dimensions used to\u001b[0m\n\u001b[1;34m          describe the components of the data. If multiple value\u001b[0m\n\u001b[1;34m          dimensions are supplied, a particular value dimension may be\u001b[0m\n\u001b[1;34m          indexed by name after the key dimensions.\u001b[0m\n\u001b[1;34m          \u001b[0m\n\u001b[1;34m          Aliased with value_dimensions.\u001b[0m\n"
    }
   ],
   "source": [
    "import holoviews\n",
    "holoviews.help(holoviews.HeatMap)"
   ]
  }
 ],
 "metadata": {
  "language_info": {
   "codemirror_mode": {
    "name": "ipython",
    "version": 3
   },
   "file_extension": ".py",
   "mimetype": "text/x-python",
   "name": "python",
   "nbconvert_exporter": "python",
   "pygments_lexer": "ipython3",
   "version": "3.7.7-final"
  },
  "orig_nbformat": 2,
  "kernelspec": {
   "name": "python37764bit982530fbef5f416d902730fdb3b376bf",
   "display_name": "Python 3.7.7 64-bit"
  }
 },
 "nbformat": 4,
 "nbformat_minor": 2
}