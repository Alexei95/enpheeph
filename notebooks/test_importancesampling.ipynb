{
 "cells": [
  {
   "cell_type": "code",
   "execution_count": 1,
   "id": "28ae8bb3",
   "metadata": {
    "collapsed": false
   },
   "outputs": [],
   "source": [
    "import torch\n",
    "import torchvision\n",
    "\n",
    "import enpheeph.helpers.importancesampling\n",
    "\n",
    "model = torchvision.models.alexnet(pretrained=True)\n",
    "test_input = torch.randn(10, 3, 227, 227, device=\"cpu\")\n",
    "test_target = torch.randint(low=0, high=1001, size=(10, ), device=\"cpu\")\n",
    "\n",
    "importance_sampling = enpheeph.helpers.importancesampling.ImportanceSampling(model=model, test_input=test_input, sensitivity_class=\"LayerConductance\", test_target=test_target, random_threshold=0, seed=41)"
   ]
  },
  {
   "cell_type": "code",
   "execution_count": 7,
   "id": "aa89aea8",
   "metadata": {
    "collapsed": false
   },
   "outputs": [
    {
     "data": {
      "text/plain": [
       "{'layer': 'features.0', 'index': (0, 10, 24, 29)}"
      ]
     },
     "execution_count": 7,
     "metadata": {},
     "output_type": "execute_result"
    }
   ],
   "source": [
    "sample = importance_sampling.get_sample()\n",
    "sample"
   ]
  },
  {
   "cell_type": "code",
   "execution_count": null,
   "id": "7f228956",
   "metadata": {
    "collapsed": false
   },
   "outputs": [],
   "source": []
  }
 ],
 "metadata": {
  "kernelspec": {
   "argv": [
    "/home/acolucci/.conda/envs/enpheeph-dev/bin/python",
    "-m",
    "ipykernel_launcher",
    "-f",
    "{connection_file}"
   ],
   "display_name": "Python 3 (ipykernel)",
   "env": null,
   "interrupt_mode": "signal",
   "language": "python",
   "metadata": {
    "debugger": true
   },
   "name": "python3"
  },
  "language_info": {
   "codemirror_mode": {
    "name": "ipython",
    "version": 3
   },
   "file_extension": ".py",
   "mimetype": "text/x-python",
   "name": "python",
   "nbconvert_exporter": "python",
   "pygments_lexer": "ipython3",
   "version": "3.9.12"
  },
  "name": "test_importancesampling.ipynb"
 },
 "nbformat": 4,
 "nbformat_minor": 5
}
