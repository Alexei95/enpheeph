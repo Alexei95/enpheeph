{
 "cells": [
  {
   "cell_type": "markdown",
   "id": "4c3f3606",
   "metadata": {},
   "source": [
    "# Imports and definitions"
   ]
  },
  {
   "cell_type": "code",
   "execution_count": 1,
   "id": "2727b95b-2f11-416e-a3f9-c51d4731ed28",
   "metadata": {},
   "outputs": [],
   "source": [
    "import itertools\n",
    "import pathlib\n",
    "import shutil\n",
    "import sys\n",
    "import time\n",
    "\n",
    "import pandas\n",
    "import plotly\n",
    "import plotly.express\n",
    "import plotly.graph_objects\n",
    "import plotly.subplots\n",
    "import plotly.express.colors"
   ]
  },
  {
   "cell_type": "code",
   "execution_count": 2,
   "id": "6234270a",
   "metadata": {},
   "outputs": [],
   "source": [
    "TIME_FORMAT = \"%Y_%m_%d__%H_%M_%S_%z\""
   ]
  },
  {
   "cell_type": "markdown",
   "id": "49f83506",
   "metadata": {},
   "source": [
    "# Data Processing"
   ]
  },
  {
   "cell_type": "code",
   "execution_count": 3,
   "id": "cbe08eae",
   "metadata": {},
   "outputs": [],
   "source": [
    "base_csv = pandas.DataFrame(dict(\n",
    "    year=[\n",
    "        2010,\n",
    "        2012,\n",
    "        2014,\n",
    "        2016,\n",
    "        2018,\n",
    "        2020,\n",
    "    ],\n",
    "    # number of transistors * number of parameters\n",
    "    n_possible_faults_parameters=[\n",
    "        1e9 * 2e6,\n",
    "        2e9 * 1e7,\n",
    "        4e9 * 5e7,\n",
    "        8e9 * 1e8,\n",
    "        1.5e10 * 1e9,\n",
    "        4e10 * 1e10,\n",
    "    ],\n",
    "    # flops of DNN over flops of GPU\n",
    "    compute_ratio=[\n",
    "        5e8 / 2e12,\n",
    "        1e9 / 4e12,\n",
    "        5e9 / 6e12,\n",
    "        3e10 / 8e12,\n",
    "        2e11 / 15e12,\n",
    "        1e12 / 30e12,\n",
    "    ],\n",
    "))\n",
    "\n",
    "csv = pandas.DataFrame(dict(\n",
    "    year=[\n",
    "        2010,\n",
    "        2012,\n",
    "        2014,\n",
    "        2016,\n",
    "        2018,\n",
    "        2020,\n",
    "        2010,\n",
    "        2012,\n",
    "        2014,\n",
    "        2016,\n",
    "        2018,\n",
    "        2020,\n",
    "    ],\n",
    "    y=[\n",
    "        # number of transistors * number of parameters\n",
    "        1e9 * 2e6,\n",
    "        2e9 * 1e7,\n",
    "        4e9 * 5e7,\n",
    "        8e9 * 1e8,\n",
    "        1.5e10 * 1e9,\n",
    "        4e10 * 1e10,\n",
    "        # flops of DNN over flops of GPU\n",
    "        5e8 / 2e12,\n",
    "        1e9 / 4e12,\n",
    "        5e9 / 6e12,\n",
    "        3e10 / 8e12,\n",
    "        2e11 / 15e12,\n",
    "        1e12 / 30e12,\n",
    "    ],\n",
    "    flag=[\"faults\"] * 6 + [\"flops\"] * 6,\n",
    "))"
   ]
  },
  {
   "cell_type": "markdown",
   "id": "96cc9d22",
   "metadata": {},
   "source": [
    "# Plotting"
   ]
  },
  {
   "cell_type": "code",
   "execution_count": 10,
   "id": "abad879a",
   "metadata": {},
   "outputs": [
    {
     "data": {
      "application/vnd.plotly.v1+json": {
       "config": {
        "plotlyServerURL": "https://plot.ly"
       },
       "data": [
        {
         "hovertemplate": "Year=%{x}<br># GPU Cycles / Campaign=%{y}<extra></extra>",
         "legendgroup": "",
         "line": {
          "color": "#636efa",
          "dash": "solid"
         },
         "marker": {
          "symbol": "circle"
         },
         "mode": "lines",
         "name": "",
         "orientation": "v",
         "showlegend": false,
         "type": "scatter",
         "x": [
          2010,
          2012,
          2014,
          2016,
          2018,
          2020
         ],
         "xaxis": "x",
         "y": [
          500000000000,
          5000000000000,
          166666666666666.7,
          3000000000000000,
          200000000000000000,
          13333333333333334000
         ],
         "yaxis": "y"
        }
       ],
       "layout": {
        "barmode": "group",
        "font": {
         "size": 24
        },
        "legend": {
         "tracegroupgap": 0
        },
        "margin": {
         "b": 60,
         "l": 110,
         "r": 0,
         "t": 0
        },
        "template": {
         "data": {
          "pie": [
           {
            "automargin": true,
            "type": "pie"
           }
          ],
          "scatter": [
           {
            "line": {
             "width": 3
            },
            "marker": {
             "size": 9
            },
            "type": "scatter"
           }
          ],
          "scatter3d": [
           {
            "line": {
             "width": 3
            },
            "marker": {
             "size": 9
            },
            "type": "scatter3d"
           }
          ],
          "scattergeo": [
           {
            "line": {
             "width": 3
            },
            "marker": {
             "size": 9
            },
            "type": "scattergeo"
           }
          ],
          "scattergl": [
           {
            "line": {
             "width": 3
            },
            "marker": {
             "size": 9
            },
            "type": "scattergl"
           }
          ],
          "scatterpolar": [
           {
            "line": {
             "width": 3
            },
            "marker": {
             "size": 9
            },
            "type": "scatterpolar"
           }
          ],
          "scatterpolargl": [
           {
            "line": {
             "width": 3
            },
            "marker": {
             "size": 9
            },
            "type": "scatterpolargl"
           }
          ],
          "scatterternary": [
           {
            "line": {
             "width": 3
            },
            "marker": {
             "size": 9
            },
            "type": "scatterternary"
           }
          ],
          "table": [
           {
            "cells": {
             "height": 30
            },
            "header": {
             "height": 36
            },
            "type": "table"
           }
          ]
         },
         "layout": {
          "font": {
           "size": 18
          },
          "xaxis": {
           "title": {
            "standoff": 15
           }
          },
          "yaxis": {
           "title": {
            "standoff": 15
           }
          }
         }
        },
        "xaxis": {
         "anchor": "y",
         "domain": [
          0,
          1
         ],
         "range": [
          2009.5,
          2021
         ],
         "title": {
          "standoff": 110,
          "text": "Year"
         }
        },
        "yaxis": {
         "anchor": "x",
         "domain": [
          0,
          1
         ],
         "tickformat": ".0e",
         "title": {
          "text": "# GPU Cycles / Campaign"
         },
         "type": "log"
        }
       }
      },
      "text/html": [
       "<div>                            <div id=\"4e55e678-8b3c-4dbb-880a-f269a0df9f24\" class=\"plotly-graph-div\" style=\"height:525px; width:100%;\"></div>            <script type=\"text/javascript\">                require([\"plotly\"], function(Plotly) {                    window.PLOTLYENV=window.PLOTLYENV || {};                                    if (document.getElementById(\"4e55e678-8b3c-4dbb-880a-f269a0df9f24\")) {                    Plotly.newPlot(                        \"4e55e678-8b3c-4dbb-880a-f269a0df9f24\",                        [{\"hovertemplate\":\"Year=%{x}<br># GPU Cycles / Campaign=%{y}<extra></extra>\",\"legendgroup\":\"\",\"line\":{\"color\":\"#636efa\",\"dash\":\"solid\"},\"marker\":{\"symbol\":\"circle\"},\"mode\":\"lines\",\"name\":\"\",\"orientation\":\"v\",\"showlegend\":false,\"x\":[2010,2012,2014,2016,2018,2020],\"xaxis\":\"x\",\"y\":[500000000000.0,5000000000000.0,166666666666666.7,3000000000000000.0,2e+17,1.3333333333333334e+19],\"yaxis\":\"y\",\"type\":\"scatter\"}],                        {\"template\":{\"data\":{\"pie\":[{\"automargin\":true,\"type\":\"pie\"}],\"scatter3d\":[{\"line\":{\"width\":3},\"marker\":{\"size\":9},\"type\":\"scatter3d\"}],\"scattergeo\":[{\"line\":{\"width\":3},\"marker\":{\"size\":9},\"type\":\"scattergeo\"}],\"scattergl\":[{\"line\":{\"width\":3},\"marker\":{\"size\":9},\"type\":\"scattergl\"}],\"scatterpolargl\":[{\"line\":{\"width\":3},\"marker\":{\"size\":9},\"type\":\"scatterpolargl\"}],\"scatterpolar\":[{\"line\":{\"width\":3},\"marker\":{\"size\":9},\"type\":\"scatterpolar\"}],\"scatter\":[{\"line\":{\"width\":3},\"marker\":{\"size\":9},\"type\":\"scatter\"}],\"scatterternary\":[{\"line\":{\"width\":3},\"marker\":{\"size\":9},\"type\":\"scatterternary\"}],\"table\":[{\"cells\":{\"height\":30},\"header\":{\"height\":36},\"type\":\"table\"}]},\"layout\":{\"font\":{\"size\":18},\"xaxis\":{\"title\":{\"standoff\":15}},\"yaxis\":{\"title\":{\"standoff\":15}}}},\"xaxis\":{\"anchor\":\"y\",\"domain\":[0.0,1.0],\"title\":{\"text\":\"Year\",\"standoff\":110},\"range\":[2009.5,2021]},\"yaxis\":{\"anchor\":\"x\",\"domain\":[0.0,1.0],\"title\":{\"text\":\"# GPU Cycles / Campaign\"},\"type\":\"log\",\"tickformat\":\".0e\"},\"legend\":{\"tracegroupgap\":0},\"margin\":{\"t\":0,\"l\":110,\"b\":60,\"r\":0},\"font\":{\"size\":24},\"barmode\":\"group\"},                        {\"responsive\": true}                    ).then(function(){\n",
       "                            \n",
       "var gd = document.getElementById('4e55e678-8b3c-4dbb-880a-f269a0df9f24');\n",
       "var x = new MutationObserver(function (mutations, observer) {{\n",
       "        var display = window.getComputedStyle(gd).display;\n",
       "        if (!display || display === 'none') {{\n",
       "            console.log([gd, 'removed!']);\n",
       "            Plotly.purge(gd);\n",
       "            observer.disconnect();\n",
       "        }}\n",
       "}});\n",
       "\n",
       "// Listen for the removal of the full notebook cells\n",
       "var notebookContainer = gd.closest('#notebook-container');\n",
       "if (notebookContainer) {{\n",
       "    x.observe(notebookContainer, {childList: true});\n",
       "}}\n",
       "\n",
       "// Listen for the clearing of the current output cell\n",
       "var outputEl = gd.closest('.output');\n",
       "if (outputEl) {{\n",
       "    x.observe(outputEl, {childList: true});\n",
       "}}\n",
       "\n",
       "                        })                };                });            </script>        </div>"
      ]
     },
     "metadata": {},
     "output_type": "display_data"
    }
   ],
   "source": [
    "# df = plotly.express.data.tips()\n",
    "# fig = plotly.express.bar(df, x=\"day\", y=\"total_bill\", color=\"smoker\", barmode=\"group\", facet_col=\"sex\",\n",
    "#              category_orders={\"day\": [\"Thur\", \"Fri\", \"Sat\", \"Sun\"],\n",
    "#                               \"smoker\": [\"Yes\", \"No\"],\n",
    "#                               \"sex\": [\"Male\", \"Female\"]})\n",
    "# fig.show()\n",
    "# colors = plotly.colors.sample_colorscale(plotly.express.colors.cmocean.haline, len(pandas.unique(sdc_alltogether_histogram_csv[\"experiment\"])))\n",
    "fig = plotly.express.line(\n",
    "    base_csv,\n",
    "    x=\"year\",\n",
    "    y=base_csv[\"n_possible_faults_parameters\"] * base_csv[\"compute_ratio\"],\n",
    "    labels=dict(year=\"Year\", y=\"# GPU Cycles / Campaign\"),\n",
    "#     text_auto=\".3f\",\n",
    "    # pattern_shape=\"experiment\",\n",
    "    # color_discrete_sequence=plotly.express.colors.colorbrewer.PuOr[::2],\n",
    "#     color_discrete_sequence=colors,\n",
    ")\n",
    "fig.update_layout(\n",
    "    barmode=\"group\",\n",
    "    xaxis={\"title_standoff\": 110, \"range\": [2009.5, 2021]},\n",
    "    yaxis={\"type\": \"log\", \"tickformat\": \".0e\"},\n",
    "    \n",
    "    font={'size': 24},\n",
    "    template=\"presentation\",\n",
    "    margin=dict(l=110, t=0, b=60, r=0),\n",
    "#     legend=dict(\n",
    "# #         x=0.1,  # value must be between 0 to 1.\n",
    "# #         y=1,   # value must be between 0 to 1.\n",
    "#         bordercolor=\"Black\",\n",
    "#         borderwidth=1,\n",
    "#         font=dict(\n",
    "#             size=17,\n",
    "#         ),\n",
    "#         orientation=\"h\",\n",
    "#     ),\n",
    "#     annotations=[\n",
    "#          dict(\n",
    "#              text=\"G\",\n",
    "#              x=0.40,\n",
    "#              ax=0.35,\n",
    "#              y=0.15,\n",
    "#              ay=0.4,\n",
    "#              xref=\"x domain\",\n",
    "#              axref=\"x domain\",\n",
    "#              yref=\"y domain\",\n",
    "#              ayref=\"y domain\",\n",
    "# #              bgcolor=\"rgba(255, 255, 255, 0)\",\n",
    "# #              bordercolor=\"rgba(255, 255, 255, 0)\",\n",
    "#              bgcolor=\"green\",\n",
    "#              bordercolor='green',\n",
    "#              borderwidth=3,\n",
    "#              borderpad=0,\n",
    "#              font=dict(\n",
    "#                  color=\"white\",\n",
    "#                  size=50,\n",
    "#              ),\n",
    "#              arrowhead=2,\n",
    "#              arrowsize=1.2,\n",
    "#              arrowwidth=3,\n",
    "#              arrowcolor=\"Green\",\n",
    "#          ),\n",
    "#     ],\n",
    "#     shapes=[\n",
    "#         dict(\n",
    "#             type=\"rect\",\n",
    "#             xref=\"x domain\",\n",
    "#             yref=\"y domain\",\n",
    "#             x0=0.31,\n",
    "#             x1=0.5,\n",
    "#             y0=0.03,\n",
    "#             y1=0.15,\n",
    "#             line=dict(\n",
    "#                 color=\"Green\",\n",
    "#                 width=3,\n",
    "#             ),\n",
    "#         ),\n",
    "# #         dict(\n",
    "# #             type=\"circle\",\n",
    "# #             xref=\"x domain\",\n",
    "# #             yref=\"y domain\",\n",
    "# #             x0=0.4,\n",
    "# #             x1=0.5,\n",
    "# #             y0=0.15,\n",
    "# #             y1=0.25,\n",
    "# #             fillcolor=\"green\",\n",
    "# #             line=dict(\n",
    "# #                 color=\"Green\",\n",
    "# #                 width=1,\n",
    "# #             ),\n",
    "# #         ),\n",
    "#     ],\n",
    "#     annotationdefaults=dict(\n",
    "        \n",
    "#     ),\n",
    ")\n",
    "current_time = time.strftime(TIME_FORMAT)\n",
    "for ____ in range(2):\n",
    "    fig.write_image(file=f\"../scripts/results/sparse_results_ijcnn2023/plots/{current_time}__motivational_case_study_plot.pdf\", format='pdf', height=400)\n",
    "    fig.write_image(file=f\"../scripts/results/sparse_results_ijcnn2023/plots/{current_time}__motivational_case_study_plot.svg\", format='svg', height=400)\n",
    "    time.sleep(2)\n",
    "fig.show()"
   ]
  },
  {
   "cell_type": "code",
   "execution_count": null,
   "id": "78e9c4c9",
   "metadata": {},
   "outputs": [],
   "source": [
    "line = plotly.express.line(\n",
    "    base_csv,\n",
    "    x=\"year\",\n",
    "    y=\"n_possible_faults_parameters\",\n",
    ") \n",
    "\n",
    "line2 = plotly.express.histogram(\n",
    "    base_csv,\n",
    "    x=\"year\",\n",
    "    y=\"compute_ratio\",\n",
    ")\n",
    "\n",
    "colors = plotly.colors.sample_colorscale(plotly.express.colors.cmocean.haline, 2)\n",
    "\n",
    "fig = plotly.subplots.make_subplots(specs=[[{\"secondary_y\": True}]])\n",
    "\n",
    "fig.add_trace(\n",
    "    plotly.graph_objects.Scatter(\n",
    "        x=line.data[0].x,\n",
    "        y=line.data[0].y,\n",
    "        name=\"# Fault Locations\",\n",
    "#             texttemplate=\"%{y:.2e}\",\n",
    "        texttemplate=\"%{y}\",\n",
    "        textfont_color=\"white\",\n",
    "        marker_color=colors[0],\n",
    "        # marker_pattern_shape='x',\n",
    "        # marker_pattern_fillmode=\"overlay\",\n",
    "    ),\n",
    "    secondary_y=False,\n",
    ")\n",
    "fig.add_trace(\n",
    "    plotly.graph_objects.Scatter(\n",
    "        x=line2.data[0].x,\n",
    "        y=line2.data[0].y,\n",
    "        name=\"FLOPs Ratio\",\n",
    "#             texttemplate=\"%{y:.2e}\",\n",
    "        texttemplate=\"%{y}\",\n",
    "        textfont_color=\"black\",\n",
    "        marker_color=colors[1],\n",
    "#             marker_pattern_shape='+',\n",
    "#             marker_pattern_fillmode=\"overlay\",\n",
    "    ),\n",
    "    secondary_y=True,\n",
    ")\n",
    "\n",
    "fig.update_layout(\n",
    "#     xaxis={\"categoryorder\": 'array', \"categoryarray\":[\n",
    "#             \"GBINo\", \"GBRNo\",\n",
    "#             \"EBINo\", \"EBRNo\",\n",
    "#             \"LBINo\", \"LBRNo\",\n",
    "#             \"RBINo\", \"RBRNo\",\n",
    "#             \"GBINw\", \"GBRNw\",\n",
    "#             \"EBINw\", \"EBRNw\",\n",
    "#             \"LBINw\", \"LBRNw\",\n",
    "#             \"RBINw\", \"RBRNw\",\n",
    "#         ],},\n",
    "#     barmode=\"group\",\n",
    "    yaxis={'title': '# Faults', \"type\": \"log\"},\n",
    "    yaxis2={'title': 'FLOPs Ratio', 'overlaying': 'y', 'side': 'right', \"type\": \"log\"},\n",
    "    \n",
    "#     labels=dict(total_bill=\"Total Bill ($)\", tip=\"Tip ($)\", sex=\"Payer Gender\"),\n",
    "    \n",
    "#     font={'size': 20},\n",
    "    template=\"presentation\",\n",
    "    margin=dict(l=70, t=0, b=30, r=30),\n",
    "    legend=dict(\n",
    "        x=0.1,  # value must be between 0 to 1.\n",
    "        y=1,   # value must be between 0 to 1.\n",
    "        bordercolor=\"Black\",\n",
    "        borderwidth=1,\n",
    "    ),\n",
    "#     annotations=[\n",
    "#          dict(\n",
    "#              text=\"G\",\n",
    "#              x=0.40,\n",
    "#              ax=0.35,\n",
    "#              y=0.15,\n",
    "#              ay=0.4,\n",
    "#              xref=\"x domain\",\n",
    "#              axref=\"x domain\",\n",
    "#              yref=\"y domain\",\n",
    "#              ayref=\"y domain\",\n",
    "# #              bgcolor=\"rgba(255, 255, 255, 0)\",\n",
    "# #              bordercolor=\"rgba(255, 255, 255, 0)\",\n",
    "#              bgcolor=\"green\",\n",
    "#              bordercolor='green',\n",
    "#              borderwidth=3,\n",
    "#              borderpad=0,\n",
    "#              font=dict(\n",
    "#                  color=\"white\",\n",
    "#                  size=50,\n",
    "#              ),\n",
    "#              arrowhead=2,\n",
    "#              arrowsize=1.2,\n",
    "#              arrowwidth=3,\n",
    "#              arrowcolor=\"Green\",\n",
    "#          ),\n",
    "#     ],\n",
    "#     shapes=[\n",
    "#         dict(\n",
    "#             type=\"rect\",\n",
    "#             xref=\"x domain\",\n",
    "#             yref=\"y domain\",\n",
    "#             x0=0.31,\n",
    "#             x1=0.5,\n",
    "#             y0=0.03,\n",
    "#             y1=0.15,\n",
    "#             line=dict(\n",
    "#                 color=\"Green\",\n",
    "#                 width=3,\n",
    "#             ),\n",
    "#         ),\n",
    "# #         dict(\n",
    "# #             type=\"circle\",\n",
    "# #             xref=\"x domain\",\n",
    "# #             yref=\"y domain\",\n",
    "# #             x0=0.4,\n",
    "# #             x1=0.5,\n",
    "# #             y0=0.15,\n",
    "# #             y1=0.25,\n",
    "# #             fillcolor=\"green\",\n",
    "# #             line=dict(\n",
    "# #                 color=\"Green\",\n",
    "# #                 width=1,\n",
    "# #             ),\n",
    "# #         ),\n",
    "#     ],\n",
    "#     annotationdefaults=dict(\n",
    "        \n",
    "#     ),\n",
    ")\n",
    "fig.show()"
   ]
  }
 ],
 "metadata": {
  "kernelspec": {
   "display_name": "Python 3 (ipykernel)",
   "language": "python",
   "name": "python3"
  },
  "language_info": {
   "codemirror_mode": {
    "name": "ipython",
    "version": 3
   },
   "file_extension": ".py",
   "mimetype": "text/x-python",
   "name": "python",
   "nbconvert_exporter": "python",
   "pygments_lexer": "ipython3",
   "version": "3.10.4"
  },
  "name": "importance_sampling_plotting.ipynb"
 },
 "nbformat": 4,
 "nbformat_minor": 5
}
