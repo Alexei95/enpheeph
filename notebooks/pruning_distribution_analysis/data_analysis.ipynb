# enpheeph - Neural Fault Injection Framework
# Copyright (C) 2020-2023 Alessio "Alexei95" Colucci
#
# This program is free software: you can redistribute it and/or modify
# it under the terms of the GNU Affero General Public License as published by
# the Free Software Foundation, either version 3 of the License, or
# (at your option) any later version.
#
# This program is distributed in the hope that it will be useful,
# but WITHOUT ANY WARRANTY; without even the implied warranty of
# MERCHANTABILITY or FITNESS FOR A PARTICULAR PURPOSE.  See the
# GNU Affero General Public License for more details.
#
# You should have received a copy of the GNU Affero General Public License
# along with this program.  If not, see <https://www.gnu.org/licenses/>.

{
 "cells": [
  {
   "cell_type": "code",
   "execution_count": 1,
   "id": "437a3b1d",
   "metadata": {},
   "outputs": [],
   "source": [
    "import functools\n",
    "import itertools\n",
    "import os\n",
    "import pathlib\n",
    "import random\n",
    "import time\n",
    "\n",
    "import captum\n",
    "import numpy\n",
    "import pandas\n",
    "import plotly\n",
    "import plotly.express\n",
    "import torch\n",
    "import torch.optim\n",
    "import torchinfo\n",
    "import torchmetrics\n",
    "import torchvision\n",
    "import torchvision.datasets\n",
    "import torchvision.transforms"
   ]
  },
  {
   "cell_type": "code",
   "execution_count": 14,
   "id": "8fd0134a",
   "metadata": {},
   "outputs": [
    {
     "data": {
      "text/plain": [
       "(Pandas(Index=0, module_name='model.features.0', location='(9, 20, 15)'),\n",
       " Pandas(Index=64, module_name='model.features.0', location='(9, 19, 14)'),\n",
       " Pandas(Index=128, module_name='model.features.0', location='(57, 23, 15)'),\n",
       " Pandas(Index=192, module_name='model.features.1', location='(9, 20, 15)'),\n",
       " Pandas(Index=256, module_name='model.features.1', location='(9, 19, 14)'),\n",
       " Pandas(Index=320, module_name='model.features.1', location='(57, 23, 15)'),\n",
       " Pandas(Index=384, module_name='model.features.2', location='(30, 7, 8)'),\n",
       " Pandas(Index=448, module_name='model.features.2', location='(30, 7, 9)'),\n",
       " Pandas(Index=512, module_name='model.features.2', location='(9, 10, 7)'),\n",
       " Pandas(Index=576, module_name='model.features.3', location='(12, 10, 6)'),\n",
       " Pandas(Index=640, module_name='model.features.3', location='(12, 10, 7)'),\n",
       " Pandas(Index=704, module_name='model.features.3', location='(3, 10, 7)'),\n",
       " Pandas(Index=768, module_name='model.features.4', location='(12, 10, 6)'),\n",
       " Pandas(Index=832, module_name='model.features.4', location='(12, 10, 7)'),\n",
       " Pandas(Index=896, module_name='model.features.4', location='(3, 10, 7)'),\n",
       " Pandas(Index=960, module_name='model.features.5', location='(12, 5, 3)'),\n",
       " Pandas(Index=1024, module_name='model.features.5', location='(3, 5, 3)'),\n",
       " Pandas(Index=1088, module_name='model.features.5', location='(12, 5, 4)'),\n",
       " Pandas(Index=1152, module_name='model.features.6', location='(229, 4, 4)'),\n",
       " Pandas(Index=1216, module_name='model.features.6', location='(62, 4, 4)'),\n",
       " Pandas(Index=1280, module_name='model.features.6', location='(229, 4, 3)'),\n",
       " Pandas(Index=1344, module_name='model.features.7', location='(229, 4, 4)'),\n",
       " Pandas(Index=1408, module_name='model.features.7', location='(62, 4, 4)'),\n",
       " Pandas(Index=1472, module_name='model.features.7', location='(229, 4, 3)'),\n",
       " Pandas(Index=1536, module_name='model.features.8', location='(62, 5, 4)'),\n",
       " Pandas(Index=1600, module_name='model.features.8', location='(62, 4, 4)'),\n",
       " Pandas(Index=1664, module_name='model.features.8', location='(62, 5, 3)'),\n",
       " Pandas(Index=1728, module_name='model.features.9', location='(62, 5, 4)'),\n",
       " Pandas(Index=1792, module_name='model.features.9', location='(62, 4, 4)'),\n",
       " Pandas(Index=1856, module_name='model.features.9', location='(62, 5, 3)'),\n",
       " Pandas(Index=1920, module_name='model.features.10', location='(62, 2, 2)'),\n",
       " Pandas(Index=1984, module_name='model.features.10', location='(62, 2, 1)'),\n",
       " Pandas(Index=2048, module_name='model.features.10', location='(135, 1, 2)'),\n",
       " Pandas(Index=2112, module_name='model.features.11', location='(250, 2, 2)'),\n",
       " Pandas(Index=2176, module_name='model.features.11', location='(233, 1, 2)'),\n",
       " Pandas(Index=2240, module_name='model.features.11', location='(233, 2, 2)'),\n",
       " Pandas(Index=2304, module_name='model.features.12', location='(250, 2, 2)'),\n",
       " Pandas(Index=2368, module_name='model.features.12', location='(233, 1, 2)'),\n",
       " Pandas(Index=2432, module_name='model.features.12', location='(233, 2, 2)'),\n",
       " Pandas(Index=2496, module_name='model.features.13', location='(400, 1, 3)'),\n",
       " Pandas(Index=2560, module_name='model.features.13', location='(222, 2, 2)'),\n",
       " Pandas(Index=2624, module_name='model.features.13', location='(59, 2, 3)'),\n",
       " Pandas(Index=2688, module_name='model.features.14', location='(400, 1, 3)'),\n",
       " Pandas(Index=2752, module_name='model.features.14', location='(222, 2, 2)'),\n",
       " Pandas(Index=2816, module_name='model.features.14', location='(59, 2, 3)'),\n",
       " Pandas(Index=2880, module_name='model.features.15', location='(400, 0, 1)'),\n",
       " Pandas(Index=2944, module_name='model.features.15', location='(222, 1, 1)'),\n",
       " Pandas(Index=3008, module_name='model.features.15', location='(222, 0, 0)'),\n",
       " Pandas(Index=3072, module_name='model.features.16', location='(340, 0, 0)'),\n",
       " Pandas(Index=3136, module_name='model.features.16', location='(283, 0, 0)'),\n",
       " Pandas(Index=3200, module_name='model.features.16', location='(283, 1, 0)'),\n",
       " Pandas(Index=3264, module_name='model.features.17', location='(283, 0, 0)'),\n",
       " Pandas(Index=3328, module_name='model.features.17', location='(340, 0, 0)'),\n",
       " Pandas(Index=3392, module_name='model.features.17', location='(283, 1, 0)'),\n",
       " Pandas(Index=3456, module_name='model.features.18', location='(185, 0, 1)'),\n",
       " Pandas(Index=3520, module_name='model.features.18', location='(44, 0, 1)'),\n",
       " Pandas(Index=3584, module_name='model.features.18', location='(109, 0, 0)'),\n",
       " Pandas(Index=3648, module_name='model.features.19', location='(185, 0, 1)'),\n",
       " Pandas(Index=3712, module_name='model.features.19', location='(44, 0, 1)'),\n",
       " Pandas(Index=3776, module_name='model.features.19', location='(109, 0, 0)'),\n",
       " Pandas(Index=3840, module_name='model.features.20', location='(185, 0, 0)'),\n",
       " Pandas(Index=3904, module_name='model.features.20', location='(44, 0, 0)'),\n",
       " Pandas(Index=3968, module_name='model.features.20', location='(109, 0, 0)'),\n",
       " Pandas(Index=4032, module_name='model.avgpool', location='(185, 3, 4)'),\n",
       " Pandas(Index=4096, module_name='model.avgpool', location='(185, 6, 1)'),\n",
       " Pandas(Index=4160, module_name='model.avgpool', location='(185, 2, 4)'),\n",
       " Pandas(Index=4224, module_name='model.classifier.0', location='(294,)'),\n",
       " Pandas(Index=4288, module_name='model.classifier.0', location='(2392,)'),\n",
       " Pandas(Index=4352, module_name='model.classifier.0', location='(1579,)'),\n",
       " Pandas(Index=4416, module_name='model.classifier.1', location='(294,)'),\n",
       " Pandas(Index=4480, module_name='model.classifier.1', location='(2392,)'),\n",
       " Pandas(Index=4544, module_name='model.classifier.1', location='(544,)'),\n",
       " Pandas(Index=4608, module_name='model.classifier.2', location='(294,)'),\n",
       " Pandas(Index=4672, module_name='model.classifier.2', location='(2392,)'),\n",
       " Pandas(Index=4736, module_name='model.classifier.2', location='(544,)'),\n",
       " Pandas(Index=4800, module_name='model.classifier.3', location='(1226,)'),\n",
       " Pandas(Index=4864, module_name='model.classifier.3', location='(4037,)'),\n",
       " Pandas(Index=4928, module_name='model.classifier.3', location='(4082,)'),\n",
       " Pandas(Index=4992, module_name='model.classifier.4', location='(1226,)'),\n",
       " Pandas(Index=5056, module_name='model.classifier.4', location='(4037,)'),\n",
       " Pandas(Index=5120, module_name='model.classifier.4', location='(4082,)'),\n",
       " Pandas(Index=5184, module_name='model.classifier.5', location='(1226,)'),\n",
       " Pandas(Index=5248, module_name='model.classifier.5', location='(4037,)'),\n",
       " Pandas(Index=5312, module_name='model.classifier.5', location='(4082,)'),\n",
       " Pandas(Index=5376, module_name='model.classifier.6', location='(1,)'),\n",
       " Pandas(Index=5440, module_name='model.classifier.6', location='(8,)'),\n",
       " Pandas(Index=5504, module_name='model.classifier.6', location='(9,)'))"
      ]
     },
     "execution_count": 14,
     "metadata": {},
     "output_type": "execute_result"
    }
   ],
   "source": [
    "dataframe_path = pathlib.Path(\"./results/trained_vgg11_cifar10_earlystopping_lightning.2023_04_15__17_31_00_+0200.csv\")\n",
    "dataframe = pandas.read_csv(str(dataframe_path), sep=\"|\", index_col=0)\n",
    "tuple(dataframe.loc[:, (\"module_name\", \"location\")].drop_duplicates().itertuples())"
   ]
  },
  {
   "cell_type": "code",
   "execution_count": 21,
   "id": "4936c45f",
   "metadata": {},
   "outputs": [
    {
     "data": {
      "text/html": [
       "<div>\n",
       "<style scoped>\n",
       "    .dataframe tbody tr th:only-of-type {\n",
       "        vertical-align: middle;\n",
       "    }\n",
       "\n",
       "    .dataframe tbody tr th {\n",
       "        vertical-align: top;\n",
       "    }\n",
       "\n",
       "    .dataframe thead th {\n",
       "        text-align: right;\n",
       "    }\n",
       "</style>\n",
       "<table border=\"1\" class=\"dataframe\">\n",
       "  <thead>\n",
       "    <tr style=\"text-align: right;\">\n",
       "      <th></th>\n",
       "      <th>module_name</th>\n",
       "      <th>tensor_type</th>\n",
       "      <th>batch_index</th>\n",
       "      <th>element_in_batch_index</th>\n",
       "      <th>location</th>\n",
       "      <th>value</th>\n",
       "      <th>accuracy</th>\n",
       "      <th>loss</th>\n",
       "    </tr>\n",
       "  </thead>\n",
       "  <tbody>\n",
       "    <tr>\n",
       "      <th>0</th>\n",
       "      <td>model.features.0</td>\n",
       "      <td>output</td>\n",
       "      <td>0</td>\n",
       "      <td>0</td>\n",
       "      <td>(9, 20, 15)</td>\n",
       "      <td>-0.100367</td>\n",
       "      <td>0.0</td>\n",
       "      <td>3.264816</td>\n",
       "    </tr>\n",
       "    <tr>\n",
       "      <th>1</th>\n",
       "      <td>model.features.0</td>\n",
       "      <td>output</td>\n",
       "      <td>0</td>\n",
       "      <td>1</td>\n",
       "      <td>(9, 20, 15)</td>\n",
       "      <td>-0.277752</td>\n",
       "      <td>1.0</td>\n",
       "      <td>0.015670</td>\n",
       "    </tr>\n",
       "    <tr>\n",
       "      <th>2</th>\n",
       "      <td>model.features.0</td>\n",
       "      <td>output</td>\n",
       "      <td>0</td>\n",
       "      <td>2</td>\n",
       "      <td>(9, 20, 15)</td>\n",
       "      <td>0.068171</td>\n",
       "      <td>1.0</td>\n",
       "      <td>0.538413</td>\n",
       "    </tr>\n",
       "    <tr>\n",
       "      <th>3</th>\n",
       "      <td>model.features.0</td>\n",
       "      <td>output</td>\n",
       "      <td>0</td>\n",
       "      <td>3</td>\n",
       "      <td>(9, 20, 15)</td>\n",
       "      <td>-0.599727</td>\n",
       "      <td>1.0</td>\n",
       "      <td>0.713292</td>\n",
       "    </tr>\n",
       "    <tr>\n",
       "      <th>4</th>\n",
       "      <td>model.features.0</td>\n",
       "      <td>output</td>\n",
       "      <td>0</td>\n",
       "      <td>4</td>\n",
       "      <td>(9, 20, 15)</td>\n",
       "      <td>0.007284</td>\n",
       "      <td>0.0</td>\n",
       "      <td>1.290160</td>\n",
       "    </tr>\n",
       "    <tr>\n",
       "      <th>...</th>\n",
       "      <td>...</td>\n",
       "      <td>...</td>\n",
       "      <td>...</td>\n",
       "      <td>...</td>\n",
       "      <td>...</td>\n",
       "      <td>...</td>\n",
       "      <td>...</td>\n",
       "      <td>...</td>\n",
       "    </tr>\n",
       "    <tr>\n",
       "      <th>869995</th>\n",
       "      <td>model.classifier.6</td>\n",
       "      <td>output</td>\n",
       "      <td>156</td>\n",
       "      <td>11</td>\n",
       "      <td>(9,)</td>\n",
       "      <td>-3.310592</td>\n",
       "      <td>0.0</td>\n",
       "      <td>3.647124</td>\n",
       "    </tr>\n",
       "    <tr>\n",
       "      <th>869996</th>\n",
       "      <td>model.classifier.6</td>\n",
       "      <td>output</td>\n",
       "      <td>156</td>\n",
       "      <td>12</td>\n",
       "      <td>(9,)</td>\n",
       "      <td>-4.124709</td>\n",
       "      <td>0.0</td>\n",
       "      <td>0.997335</td>\n",
       "    </tr>\n",
       "    <tr>\n",
       "      <th>869997</th>\n",
       "      <td>model.classifier.6</td>\n",
       "      <td>output</td>\n",
       "      <td>156</td>\n",
       "      <td>13</td>\n",
       "      <td>(9,)</td>\n",
       "      <td>-11.968750</td>\n",
       "      <td>1.0</td>\n",
       "      <td>0.028434</td>\n",
       "    </tr>\n",
       "    <tr>\n",
       "      <th>869998</th>\n",
       "      <td>model.classifier.6</td>\n",
       "      <td>output</td>\n",
       "      <td>156</td>\n",
       "      <td>14</td>\n",
       "      <td>(9,)</td>\n",
       "      <td>-3.235225</td>\n",
       "      <td>1.0</td>\n",
       "      <td>0.007218</td>\n",
       "    </tr>\n",
       "    <tr>\n",
       "      <th>869999</th>\n",
       "      <td>model.classifier.6</td>\n",
       "      <td>output</td>\n",
       "      <td>156</td>\n",
       "      <td>15</td>\n",
       "      <td>(9,)</td>\n",
       "      <td>-13.901443</td>\n",
       "      <td>1.0</td>\n",
       "      <td>0.000486</td>\n",
       "    </tr>\n",
       "  </tbody>\n",
       "</table>\n",
       "<p>870000 rows × 8 columns</p>\n",
       "</div>"
      ],
      "text/plain": [
       "               module_name tensor_type  batch_index  element_in_batch_index   \n",
       "0         model.features.0      output            0                       0  \\\n",
       "1         model.features.0      output            0                       1   \n",
       "2         model.features.0      output            0                       2   \n",
       "3         model.features.0      output            0                       3   \n",
       "4         model.features.0      output            0                       4   \n",
       "...                    ...         ...          ...                     ...   \n",
       "869995  model.classifier.6      output          156                      11   \n",
       "869996  model.classifier.6      output          156                      12   \n",
       "869997  model.classifier.6      output          156                      13   \n",
       "869998  model.classifier.6      output          156                      14   \n",
       "869999  model.classifier.6      output          156                      15   \n",
       "\n",
       "           location      value  accuracy      loss  \n",
       "0       (9, 20, 15)  -0.100367       0.0  3.264816  \n",
       "1       (9, 20, 15)  -0.277752       1.0  0.015670  \n",
       "2       (9, 20, 15)   0.068171       1.0  0.538413  \n",
       "3       (9, 20, 15)  -0.599727       1.0  0.713292  \n",
       "4       (9, 20, 15)   0.007284       0.0  1.290160  \n",
       "...             ...        ...       ...       ...  \n",
       "869995         (9,)  -3.310592       0.0  3.647124  \n",
       "869996         (9,)  -4.124709       0.0  0.997335  \n",
       "869997         (9,) -11.968750       1.0  0.028434  \n",
       "869998         (9,)  -3.235225       1.0  0.007218  \n",
       "869999         (9,) -13.901443       1.0  0.000486  \n",
       "\n",
       "[870000 rows x 8 columns]"
      ]
     },
     "execution_count": 21,
     "metadata": {},
     "output_type": "execute_result"
    }
   ],
   "source": [
    "dataframe"
   ]
  },
  {
   "cell_type": "code",
   "execution_count": 23,
   "id": "1836191b",
   "metadata": {},
   "outputs": [
    {
     "data": {
      "application/vnd.plotly.v1+json": {
       "config": {
        "plotlyServerURL": "https://plot.ly"
       },
       "data": [
        {
         "customdata": [
          [
           0,
           0,
           "(9, 20, 15)",
           "(9, 20, 15)",
           0,
           3.2648162841796875
          ],
          [
           0,
           0,
           "(9, 19, 14)",
           "(9, 19, 14)",
           0,
           3.2648162841796875
          ],
          [
           0,
           0,
           "(57, 23, 15)",
           "(57, 23, 15)",
           0,
           3.2648162841796875
          ],
          [
           0,
           0,
           "(9, 20, 15)",
           "(9, 20, 15)",
           0,
           3.2648162841796875
          ],
          [
           0,
           0,
           "(9, 19, 14)",
           "(9, 19, 14)",
           0,
           3.2648162841796875
          ],
          [
           0,
           0,
           "(57, 23, 15)",
           "(57, 23, 15)",
           0,
           3.2648162841796875
          ],
          [
           0,
           0,
           "(30, 7, 8)",
           "(30, 7, 8)",
           0,
           3.2648162841796875
          ],
          [
           0,
           0,
           "(30, 7, 9)",
           "(30, 7, 9)",
           0,
           3.2648162841796875
          ],
          [
           0,
           0,
           "(9, 10, 7)",
           "(9, 10, 7)",
           0,
           3.2648162841796875
          ],
          [
           0,
           0,
           "(12, 10, 6)",
           "(12, 10, 6)",
           0,
           3.2648162841796875
          ],
          [
           0,
           0,
           "(12, 10, 7)",
           "(12, 10, 7)",
           0,
           3.2648162841796875
          ],
          [
           0,
           0,
           "(3, 10, 7)",
           "(3, 10, 7)",
           0,
           3.2648162841796875
          ],
          [
           0,
           0,
           "(12, 10, 6)",
           "(12, 10, 6)",
           0,
           3.2648162841796875
          ],
          [
           0,
           0,
           "(12, 10, 7)",
           "(12, 10, 7)",
           0,
           3.2648162841796875
          ],
          [
           0,
           0,
           "(3, 10, 7)",
           "(3, 10, 7)",
           0,
           3.2648162841796875
          ],
          [
           0,
           0,
           "(12, 5, 3)",
           "(12, 5, 3)",
           0,
           3.2648162841796875
          ],
          [
           0,
           0,
           "(3, 5, 3)",
           "(3, 5, 3)",
           0,
           3.2648162841796875
          ],
          [
           0,
           0,
           "(12, 5, 4)",
           "(12, 5, 4)",
           0,
           3.2648162841796875
          ],
          [
           0,
           0,
           "(229, 4, 4)",
           "(229, 4, 4)",
           0,
           3.2648162841796875
          ],
          [
           0,
           0,
           "(62, 4, 4)",
           "(62, 4, 4)",
           0,
           3.2648162841796875
          ],
          [
           0,
           0,
           "(229, 4, 3)",
           "(229, 4, 3)",
           0,
           3.2648162841796875
          ],
          [
           0,
           0,
           "(229, 4, 4)",
           "(229, 4, 4)",
           0,
           3.2648162841796875
          ],
          [
           0,
           0,
           "(62, 4, 4)",
           "(62, 4, 4)",
           0,
           3.2648162841796875
          ],
          [
           0,
           0,
           "(229, 4, 3)",
           "(229, 4, 3)",
           0,
           3.2648162841796875
          ],
          [
           0,
           0,
           "(62, 5, 4)",
           "(62, 5, 4)",
           0,
           3.2648162841796875
          ],
          [
           0,
           0,
           "(62, 4, 4)",
           "(62, 4, 4)",
           0,
           3.2648162841796875
          ],
          [
           0,
           0,
           "(62, 5, 3)",
           "(62, 5, 3)",
           0,
           3.2648162841796875
          ],
          [
           0,
           0,
           "(62, 5, 4)",
           "(62, 5, 4)",
           0,
           3.2648162841796875
          ],
          [
           0,
           0,
           "(62, 4, 4)",
           "(62, 4, 4)",
           0,
           3.2648162841796875
          ],
          [
           0,
           0,
           "(62, 5, 3)",
           "(62, 5, 3)",
           0,
           3.2648162841796875
          ],
          [
           0,
           0,
           "(62, 2, 2)",
           "(62, 2, 2)",
           0,
           3.2648162841796875
          ],
          [
           0,
           0,
           "(62, 2, 1)",
           "(62, 2, 1)",
           0,
           3.2648162841796875
          ],
          [
           0,
           0,
           "(135, 1, 2)",
           "(135, 1, 2)",
           0,
           3.2648162841796875
          ],
          [
           0,
           0,
           "(250, 2, 2)",
           "(250, 2, 2)",
           0,
           3.2648162841796875
          ],
          [
           0,
           0,
           "(233, 1, 2)",
           "(233, 1, 2)",
           0,
           3.2648162841796875
          ],
          [
           0,
           0,
           "(233, 2, 2)",
           "(233, 2, 2)",
           0,
           3.2648162841796875
          ],
          [
           0,
           0,
           "(250, 2, 2)",
           "(250, 2, 2)",
           0,
           3.2648162841796875
          ],
          [
           0,
           0,
           "(233, 1, 2)",
           "(233, 1, 2)",
           0,
           3.2648162841796875
          ],
          [
           0,
           0,
           "(233, 2, 2)",
           "(233, 2, 2)",
           0,
           3.2648162841796875
          ],
          [
           0,
           0,
           "(400, 1, 3)",
           "(400, 1, 3)",
           0,
           3.2648162841796875
          ],
          [
           0,
           0,
           "(222, 2, 2)",
           "(222, 2, 2)",
           0,
           3.2648162841796875
          ],
          [
           0,
           0,
           "(59, 2, 3)",
           "(59, 2, 3)",
           0,
           3.2648162841796875
          ],
          [
           0,
           0,
           "(400, 1, 3)",
           "(400, 1, 3)",
           0,
           3.2648162841796875
          ],
          [
           0,
           0,
           "(222, 2, 2)",
           "(222, 2, 2)",
           0,
           3.2648162841796875
          ],
          [
           0,
           0,
           "(59, 2, 3)",
           "(59, 2, 3)",
           0,
           3.2648162841796875
          ],
          [
           0,
           0,
           "(400, 0, 1)",
           "(400, 0, 1)",
           0,
           3.2648162841796875
          ],
          [
           0,
           0,
           "(222, 1, 1)",
           "(222, 1, 1)",
           0,
           3.2648162841796875
          ],
          [
           0,
           0,
           "(222, 0, 0)",
           "(222, 0, 0)",
           0,
           3.2648162841796875
          ],
          [
           0,
           0,
           "(340, 0, 0)",
           "(340, 0, 0)",
           0,
           3.2648162841796875
          ],
          [
           0,
           0,
           "(283, 0, 0)",
           "(283, 0, 0)",
           0,
           3.2648162841796875
          ],
          [
           0,
           0,
           "(283, 1, 0)",
           "(283, 1, 0)",
           0,
           3.2648162841796875
          ],
          [
           0,
           0,
           "(283, 0, 0)",
           "(283, 0, 0)",
           0,
           3.2648162841796875
          ],
          [
           0,
           0,
           "(340, 0, 0)",
           "(340, 0, 0)",
           0,
           3.2648162841796875
          ],
          [
           0,
           0,
           "(283, 1, 0)",
           "(283, 1, 0)",
           0,
           3.2648162841796875
          ],
          [
           0,
           0,
           "(185, 0, 1)",
           "(185, 0, 1)",
           0,
           3.2648162841796875
          ],
          [
           0,
           0,
           "(44, 0, 1)",
           "(44, 0, 1)",
           0,
           3.2648162841796875
          ],
          [
           0,
           0,
           "(109, 0, 0)",
           "(109, 0, 0)",
           0,
           3.2648162841796875
          ],
          [
           0,
           0,
           "(185, 0, 1)",
           "(185, 0, 1)",
           0,
           3.2648162841796875
          ],
          [
           0,
           0,
           "(44, 0, 1)",
           "(44, 0, 1)",
           0,
           3.2648162841796875
          ],
          [
           0,
           0,
           "(109, 0, 0)",
           "(109, 0, 0)",
           0,
           3.2648162841796875
          ],
          [
           0,
           0,
           "(185, 0, 0)",
           "(185, 0, 0)",
           0,
           3.2648162841796875
          ],
          [
           0,
           0,
           "(44, 0, 0)",
           "(44, 0, 0)",
           0,
           3.2648162841796875
          ],
          [
           0,
           0,
           "(109, 0, 0)",
           "(109, 0, 0)",
           0,
           3.2648162841796875
          ],
          [
           0,
           0,
           "(185, 3, 4)",
           "(185, 3, 4)",
           0,
           3.2648162841796875
          ],
          [
           0,
           0,
           "(185, 6, 1)",
           "(185, 6, 1)",
           0,
           3.2648162841796875
          ],
          [
           0,
           0,
           "(185, 2, 4)",
           "(185, 2, 4)",
           0,
           3.2648162841796875
          ],
          [
           0,
           0,
           "(294,)",
           "(294,)",
           0,
           3.2648162841796875
          ],
          [
           0,
           0,
           "(2392,)",
           "(2392,)",
           0,
           3.2648162841796875
          ],
          [
           0,
           0,
           "(1579,)",
           "(1579,)",
           0,
           3.2648162841796875
          ],
          [
           0,
           0,
           "(294,)",
           "(294,)",
           0,
           3.2648162841796875
          ],
          [
           0,
           0,
           "(2392,)",
           "(2392,)",
           0,
           3.2648162841796875
          ],
          [
           0,
           0,
           "(544,)",
           "(544,)",
           0,
           3.2648162841796875
          ],
          [
           0,
           0,
           "(294,)",
           "(294,)",
           0,
           3.2648162841796875
          ],
          [
           0,
           0,
           "(2392,)",
           "(2392,)",
           0,
           3.2648162841796875
          ],
          [
           0,
           0,
           "(544,)",
           "(544,)",
           0,
           3.2648162841796875
          ],
          [
           0,
           0,
           "(1226,)",
           "(1226,)",
           0,
           3.2648162841796875
          ],
          [
           0,
           0,
           "(4037,)",
           "(4037,)",
           0,
           3.2648162841796875
          ],
          [
           0,
           0,
           "(4082,)",
           "(4082,)",
           0,
           3.2648162841796875
          ],
          [
           0,
           0,
           "(1226,)",
           "(1226,)",
           0,
           3.2648162841796875
          ],
          [
           0,
           0,
           "(4037,)",
           "(4037,)",
           0,
           3.2648162841796875
          ],
          [
           0,
           0,
           "(4082,)",
           "(4082,)",
           0,
           3.2648162841796875
          ],
          [
           0,
           0,
           "(1226,)",
           "(1226,)",
           0,
           3.2648162841796875
          ],
          [
           0,
           0,
           "(4037,)",
           "(4037,)",
           0,
           3.2648162841796875
          ],
          [
           0,
           0,
           "(4082,)",
           "(4082,)",
           0,
           3.2648162841796875
          ],
          [
           0,
           0,
           "(1,)",
           "(1,)",
           0,
           3.2648162841796875
          ],
          [
           0,
           0,
           "(8,)",
           "(8,)",
           0,
           3.2648162841796875
          ],
          [
           0,
           0,
           "(9,)",
           "(9,)",
           0,
           3.2648162841796875
          ]
         ],
         "hovertemplate": "module_name=%{x}<br>value=%{y}<br>batch_index=%{customdata[0]}<br>element_in_batch_index=%{customdata[1]}<br>location=%{customdata[3]}<br>accuracy=%{marker.color}<br>loss=%{customdata[5]}<extra></extra>",
         "legendgroup": "",
         "marker": {
          "color": [
           0,
           0,
           0,
           0,
           0,
           0,
           0,
           0,
           0,
           0,
           0,
           0,
           0,
           0,
           0,
           0,
           0,
           0,
           0,
           0,
           0,
           0,
           0,
           0,
           0,
           0,
           0,
           0,
           0,
           0,
           0,
           0,
           0,
           0,
           0,
           0,
           0,
           0,
           0,
           0,
           0,
           0,
           0,
           0,
           0,
           0,
           0,
           0,
           0,
           0,
           0,
           0,
           0,
           0,
           0,
           0,
           0,
           0,
           0,
           0,
           0,
           0,
           0,
           0,
           0,
           0,
           0,
           0,
           0,
           0,
           0,
           0,
           0,
           0,
           0,
           0,
           0,
           0,
           0,
           0,
           0,
           0,
           0,
           0,
           0,
           0,
           0
          ],
          "coloraxis": "coloraxis",
          "symbol": "circle"
         },
         "mode": "markers",
         "name": "",
         "orientation": "v",
         "showlegend": false,
         "type": "scatter",
         "x": [
          "model.features.0",
          "model.features.0",
          "model.features.0",
          "model.features.1",
          "model.features.1",
          "model.features.1",
          "model.features.2",
          "model.features.2",
          "model.features.2",
          "model.features.3",
          "model.features.3",
          "model.features.3",
          "model.features.4",
          "model.features.4",
          "model.features.4",
          "model.features.5",
          "model.features.5",
          "model.features.5",
          "model.features.6",
          "model.features.6",
          "model.features.6",
          "model.features.7",
          "model.features.7",
          "model.features.7",
          "model.features.8",
          "model.features.8",
          "model.features.8",
          "model.features.9",
          "model.features.9",
          "model.features.9",
          "model.features.10",
          "model.features.10",
          "model.features.10",
          "model.features.11",
          "model.features.11",
          "model.features.11",
          "model.features.12",
          "model.features.12",
          "model.features.12",
          "model.features.13",
          "model.features.13",
          "model.features.13",
          "model.features.14",
          "model.features.14",
          "model.features.14",
          "model.features.15",
          "model.features.15",
          "model.features.15",
          "model.features.16",
          "model.features.16",
          "model.features.16",
          "model.features.17",
          "model.features.17",
          "model.features.17",
          "model.features.18",
          "model.features.18",
          "model.features.18",
          "model.features.19",
          "model.features.19",
          "model.features.19",
          "model.features.20",
          "model.features.20",
          "model.features.20",
          "model.avgpool",
          "model.avgpool",
          "model.avgpool",
          "model.classifier.0",
          "model.classifier.0",
          "model.classifier.0",
          "model.classifier.1",
          "model.classifier.1",
          "model.classifier.1",
          "model.classifier.2",
          "model.classifier.2",
          "model.classifier.2",
          "model.classifier.3",
          "model.classifier.3",
          "model.classifier.3",
          "model.classifier.4",
          "model.classifier.4",
          "model.classifier.4",
          "model.classifier.5",
          "model.classifier.5",
          "model.classifier.5",
          "model.classifier.6",
          "model.classifier.6",
          "model.classifier.6"
         ],
         "xaxis": "x",
         "y": [
          -0.1003667563199997,
          -0.1993972659111023,
          -0.057148277759552,
          0,
          0,
          0,
          0,
          0.0381456986069679,
          0.1442963629961013,
          -3.569519281387329,
          -2.841289520263672,
          -1.8361256122589111,
          0,
          0,
          0,
          0,
          0,
          0,
          0.6447211503982544,
          0.1187095865607261,
          -0.9572595953941344,
          0.6447211503982544,
          0.1187095865607261,
          0,
          -8.211251258850098,
          -4.245309352874756,
          -8.215839385986328,
          0,
          0,
          0,
          0,
          0,
          0,
          -4.527289390563965,
          0.4978875517845154,
          5.144813537597656,
          0,
          0.4978875517845154,
          5.144813537597656,
          -5.531975746154785,
          4.71080493927002,
          -8.964343070983887,
          0,
          4.71080493927002,
          0,
          0.4682757258415222,
          7.034436225891113,
          0.8085494041442871,
          -1.027454853057861,
          -0.6559988856315613,
          -1.117244839668274,
          0,
          0,
          0,
          0.0861037224531173,
          0.0133442115038633,
          -0.0125439809635281,
          0.0861037224531173,
          0.0133442115038633,
          0,
          0.0861037224531173,
          0.0133442115038633,
          0,
          0.0861037224531173,
          0.0861037224531173,
          0.0861037224531173,
          -0.4567270278930664,
          -0.5512797832489014,
          0.0036760717630386,
          0,
          0,
          0.05263152718544,
          0,
          0,
          0.05263152718544,
          -0.513818085193634,
          0.0736851543188095,
          0.2001332342624664,
          0,
          0.0736851543188095,
          0.2001332342624664,
          0,
          0.0736851543188095,
          0.2001332342624664,
          -1.2990131378173828,
          1.1545323133468628,
          -1.8840537071228027
         ],
         "yaxis": "y"
        },
        {
         "alignmentgroup": "True",
         "bingroup": "x",
         "hovertemplate": "module_name=%{x}<br>count=%{y}<extra></extra>",
         "legendgroup": "",
         "marker": {
          "color": "#0d0887"
         },
         "name": "",
         "offsetgroup": "",
         "opacity": 0.5,
         "showlegend": false,
         "type": "histogram",
         "x": [
          "model.features.0",
          "model.features.0",
          "model.features.0",
          "model.features.1",
          "model.features.1",
          "model.features.1",
          "model.features.2",
          "model.features.2",
          "model.features.2",
          "model.features.3",
          "model.features.3",
          "model.features.3",
          "model.features.4",
          "model.features.4",
          "model.features.4",
          "model.features.5",
          "model.features.5",
          "model.features.5",
          "model.features.6",
          "model.features.6",
          "model.features.6",
          "model.features.7",
          "model.features.7",
          "model.features.7",
          "model.features.8",
          "model.features.8",
          "model.features.8",
          "model.features.9",
          "model.features.9",
          "model.features.9",
          "model.features.10",
          "model.features.10",
          "model.features.10",
          "model.features.11",
          "model.features.11",
          "model.features.11",
          "model.features.12",
          "model.features.12",
          "model.features.12",
          "model.features.13",
          "model.features.13",
          "model.features.13",
          "model.features.14",
          "model.features.14",
          "model.features.14",
          "model.features.15",
          "model.features.15",
          "model.features.15",
          "model.features.16",
          "model.features.16",
          "model.features.16",
          "model.features.17",
          "model.features.17",
          "model.features.17",
          "model.features.18",
          "model.features.18",
          "model.features.18",
          "model.features.19",
          "model.features.19",
          "model.features.19",
          "model.features.20",
          "model.features.20",
          "model.features.20",
          "model.avgpool",
          "model.avgpool",
          "model.avgpool",
          "model.classifier.0",
          "model.classifier.0",
          "model.classifier.0",
          "model.classifier.1",
          "model.classifier.1",
          "model.classifier.1",
          "model.classifier.2",
          "model.classifier.2",
          "model.classifier.2",
          "model.classifier.3",
          "model.classifier.3",
          "model.classifier.3",
          "model.classifier.4",
          "model.classifier.4",
          "model.classifier.4",
          "model.classifier.5",
          "model.classifier.5",
          "model.classifier.5",
          "model.classifier.6",
          "model.classifier.6",
          "model.classifier.6"
         ],
         "xaxis": "x3",
         "yaxis": "y3"
        },
        {
         "alignmentgroup": "True",
         "bingroup": "y",
         "hovertemplate": "value=%{y}<br>count=%{x}<extra></extra>",
         "legendgroup": "",
         "marker": {
          "color": "#0d0887"
         },
         "name": "",
         "offsetgroup": "",
         "opacity": 0.5,
         "showlegend": false,
         "type": "histogram",
         "xaxis": "x2",
         "y": [
          -0.1003667563199997,
          -0.1993972659111023,
          -0.057148277759552,
          0,
          0,
          0,
          0,
          0.0381456986069679,
          0.1442963629961013,
          -3.569519281387329,
          -2.841289520263672,
          -1.8361256122589111,
          0,
          0,
          0,
          0,
          0,
          0,
          0.6447211503982544,
          0.1187095865607261,
          -0.9572595953941344,
          0.6447211503982544,
          0.1187095865607261,
          0,
          -8.211251258850098,
          -4.245309352874756,
          -8.215839385986328,
          0,
          0,
          0,
          0,
          0,
          0,
          -4.527289390563965,
          0.4978875517845154,
          5.144813537597656,
          0,
          0.4978875517845154,
          5.144813537597656,
          -5.531975746154785,
          4.71080493927002,
          -8.964343070983887,
          0,
          4.71080493927002,
          0,
          0.4682757258415222,
          7.034436225891113,
          0.8085494041442871,
          -1.027454853057861,
          -0.6559988856315613,
          -1.117244839668274,
          0,
          0,
          0,
          0.0861037224531173,
          0.0133442115038633,
          -0.0125439809635281,
          0.0861037224531173,
          0.0133442115038633,
          0,
          0.0861037224531173,
          0.0133442115038633,
          0,
          0.0861037224531173,
          0.0861037224531173,
          0.0861037224531173,
          -0.4567270278930664,
          -0.5512797832489014,
          0.0036760717630386,
          0,
          0,
          0.05263152718544,
          0,
          0,
          0.05263152718544,
          -0.513818085193634,
          0.0736851543188095,
          0.2001332342624664,
          0,
          0.0736851543188095,
          0.2001332342624664,
          0,
          0.0736851543188095,
          0.2001332342624664,
          -1.2990131378173828,
          1.1545323133468628,
          -1.8840537071228027
         ],
         "yaxis": "y2"
        }
       ],
       "layout": {
        "barmode": "overlay",
        "coloraxis": {
         "colorbar": {
          "title": {
           "text": "accuracy"
          }
         },
         "colorscale": [
          [
           0,
           "#0d0887"
          ],
          [
           0.1111111111111111,
           "#46039f"
          ],
          [
           0.2222222222222222,
           "#7201a8"
          ],
          [
           0.3333333333333333,
           "#9c179e"
          ],
          [
           0.4444444444444444,
           "#bd3786"
          ],
          [
           0.5555555555555556,
           "#d8576b"
          ],
          [
           0.6666666666666666,
           "#ed7953"
          ],
          [
           0.7777777777777778,
           "#fb9f3a"
          ],
          [
           0.8888888888888888,
           "#fdca26"
          ],
          [
           1,
           "#f0f921"
          ]
         ]
        },
        "legend": {
         "tracegroupgap": 0
        },
        "margin": {
         "t": 60
        },
        "template": {
         "data": {
          "bar": [
           {
            "error_x": {
             "color": "#2a3f5f"
            },
            "error_y": {
             "color": "#2a3f5f"
            },
            "marker": {
             "line": {
              "color": "#E5ECF6",
              "width": 0.5
             },
             "pattern": {
              "fillmode": "overlay",
              "size": 10,
              "solidity": 0.2
             }
            },
            "type": "bar"
           }
          ],
          "barpolar": [
           {
            "marker": {
             "line": {
              "color": "#E5ECF6",
              "width": 0.5
             },
             "pattern": {
              "fillmode": "overlay",
              "size": 10,
              "solidity": 0.2
             }
            },
            "type": "barpolar"
           }
          ],
          "carpet": [
           {
            "aaxis": {
             "endlinecolor": "#2a3f5f",
             "gridcolor": "white",
             "linecolor": "white",
             "minorgridcolor": "white",
             "startlinecolor": "#2a3f5f"
            },
            "baxis": {
             "endlinecolor": "#2a3f5f",
             "gridcolor": "white",
             "linecolor": "white",
             "minorgridcolor": "white",
             "startlinecolor": "#2a3f5f"
            },
            "type": "carpet"
           }
          ],
          "choropleth": [
           {
            "colorbar": {
             "outlinewidth": 0,
             "ticks": ""
            },
            "type": "choropleth"
           }
          ],
          "contour": [
           {
            "colorbar": {
             "outlinewidth": 0,
             "ticks": ""
            },
            "colorscale": [
             [
              0,
              "#0d0887"
             ],
             [
              0.1111111111111111,
              "#46039f"
             ],
             [
              0.2222222222222222,
              "#7201a8"
             ],
             [
              0.3333333333333333,
              "#9c179e"
             ],
             [
              0.4444444444444444,
              "#bd3786"
             ],
             [
              0.5555555555555556,
              "#d8576b"
             ],
             [
              0.6666666666666666,
              "#ed7953"
             ],
             [
              0.7777777777777778,
              "#fb9f3a"
             ],
             [
              0.8888888888888888,
              "#fdca26"
             ],
             [
              1,
              "#f0f921"
             ]
            ],
            "type": "contour"
           }
          ],
          "contourcarpet": [
           {
            "colorbar": {
             "outlinewidth": 0,
             "ticks": ""
            },
            "type": "contourcarpet"
           }
          ],
          "heatmap": [
           {
            "colorbar": {
             "outlinewidth": 0,
             "ticks": ""
            },
            "colorscale": [
             [
              0,
              "#0d0887"
             ],
             [
              0.1111111111111111,
              "#46039f"
             ],
             [
              0.2222222222222222,
              "#7201a8"
             ],
             [
              0.3333333333333333,
              "#9c179e"
             ],
             [
              0.4444444444444444,
              "#bd3786"
             ],
             [
              0.5555555555555556,
              "#d8576b"
             ],
             [
              0.6666666666666666,
              "#ed7953"
             ],
             [
              0.7777777777777778,
              "#fb9f3a"
             ],
             [
              0.8888888888888888,
              "#fdca26"
             ],
             [
              1,
              "#f0f921"
             ]
            ],
            "type": "heatmap"
           }
          ],
          "heatmapgl": [
           {
            "colorbar": {
             "outlinewidth": 0,
             "ticks": ""
            },
            "colorscale": [
             [
              0,
              "#0d0887"
             ],
             [
              0.1111111111111111,
              "#46039f"
             ],
             [
              0.2222222222222222,
              "#7201a8"
             ],
             [
              0.3333333333333333,
              "#9c179e"
             ],
             [
              0.4444444444444444,
              "#bd3786"
             ],
             [
              0.5555555555555556,
              "#d8576b"
             ],
             [
              0.6666666666666666,
              "#ed7953"
             ],
             [
              0.7777777777777778,
              "#fb9f3a"
             ],
             [
              0.8888888888888888,
              "#fdca26"
             ],
             [
              1,
              "#f0f921"
             ]
            ],
            "type": "heatmapgl"
           }
          ],
          "histogram": [
           {
            "marker": {
             "pattern": {
              "fillmode": "overlay",
              "size": 10,
              "solidity": 0.2
             }
            },
            "type": "histogram"
           }
          ],
          "histogram2d": [
           {
            "colorbar": {
             "outlinewidth": 0,
             "ticks": ""
            },
            "colorscale": [
             [
              0,
              "#0d0887"
             ],
             [
              0.1111111111111111,
              "#46039f"
             ],
             [
              0.2222222222222222,
              "#7201a8"
             ],
             [
              0.3333333333333333,
              "#9c179e"
             ],
             [
              0.4444444444444444,
              "#bd3786"
             ],
             [
              0.5555555555555556,
              "#d8576b"
             ],
             [
              0.6666666666666666,
              "#ed7953"
             ],
             [
              0.7777777777777778,
              "#fb9f3a"
             ],
             [
              0.8888888888888888,
              "#fdca26"
             ],
             [
              1,
              "#f0f921"
             ]
            ],
            "type": "histogram2d"
           }
          ],
          "histogram2dcontour": [
           {
            "colorbar": {
             "outlinewidth": 0,
             "ticks": ""
            },
            "colorscale": [
             [
              0,
              "#0d0887"
             ],
             [
              0.1111111111111111,
              "#46039f"
             ],
             [
              0.2222222222222222,
              "#7201a8"
             ],
             [
              0.3333333333333333,
              "#9c179e"
             ],
             [
              0.4444444444444444,
              "#bd3786"
             ],
             [
              0.5555555555555556,
              "#d8576b"
             ],
             [
              0.6666666666666666,
              "#ed7953"
             ],
             [
              0.7777777777777778,
              "#fb9f3a"
             ],
             [
              0.8888888888888888,
              "#fdca26"
             ],
             [
              1,
              "#f0f921"
             ]
            ],
            "type": "histogram2dcontour"
           }
          ],
          "mesh3d": [
           {
            "colorbar": {
             "outlinewidth": 0,
             "ticks": ""
            },
            "type": "mesh3d"
           }
          ],
          "parcoords": [
           {
            "line": {
             "colorbar": {
              "outlinewidth": 0,
              "ticks": ""
             }
            },
            "type": "parcoords"
           }
          ],
          "pie": [
           {
            "automargin": true,
            "type": "pie"
           }
          ],
          "scatter": [
           {
            "fillpattern": {
             "fillmode": "overlay",
             "size": 10,
             "solidity": 0.2
            },
            "type": "scatter"
           }
          ],
          "scatter3d": [
           {
            "line": {
             "colorbar": {
              "outlinewidth": 0,
              "ticks": ""
             }
            },
            "marker": {
             "colorbar": {
              "outlinewidth": 0,
              "ticks": ""
             }
            },
            "type": "scatter3d"
           }
          ],
          "scattercarpet": [
           {
            "marker": {
             "colorbar": {
              "outlinewidth": 0,
              "ticks": ""
             }
            },
            "type": "scattercarpet"
           }
          ],
          "scattergeo": [
           {
            "marker": {
             "colorbar": {
              "outlinewidth": 0,
              "ticks": ""
             }
            },
            "type": "scattergeo"
           }
          ],
          "scattergl": [
           {
            "marker": {
             "colorbar": {
              "outlinewidth": 0,
              "ticks": ""
             }
            },
            "type": "scattergl"
           }
          ],
          "scattermapbox": [
           {
            "marker": {
             "colorbar": {
              "outlinewidth": 0,
              "ticks": ""
             }
            },
            "type": "scattermapbox"
           }
          ],
          "scatterpolar": [
           {
            "marker": {
             "colorbar": {
              "outlinewidth": 0,
              "ticks": ""
             }
            },
            "type": "scatterpolar"
           }
          ],
          "scatterpolargl": [
           {
            "marker": {
             "colorbar": {
              "outlinewidth": 0,
              "ticks": ""
             }
            },
            "type": "scatterpolargl"
           }
          ],
          "scatterternary": [
           {
            "marker": {
             "colorbar": {
              "outlinewidth": 0,
              "ticks": ""
             }
            },
            "type": "scatterternary"
           }
          ],
          "surface": [
           {
            "colorbar": {
             "outlinewidth": 0,
             "ticks": ""
            },
            "colorscale": [
             [
              0,
              "#0d0887"
             ],
             [
              0.1111111111111111,
              "#46039f"
             ],
             [
              0.2222222222222222,
              "#7201a8"
             ],
             [
              0.3333333333333333,
              "#9c179e"
             ],
             [
              0.4444444444444444,
              "#bd3786"
             ],
             [
              0.5555555555555556,
              "#d8576b"
             ],
             [
              0.6666666666666666,
              "#ed7953"
             ],
             [
              0.7777777777777778,
              "#fb9f3a"
             ],
             [
              0.8888888888888888,
              "#fdca26"
             ],
             [
              1,
              "#f0f921"
             ]
            ],
            "type": "surface"
           }
          ],
          "table": [
           {
            "cells": {
             "fill": {
              "color": "#EBF0F8"
             },
             "line": {
              "color": "white"
             }
            },
            "header": {
             "fill": {
              "color": "#C8D4E3"
             },
             "line": {
              "color": "white"
             }
            },
            "type": "table"
           }
          ]
         },
         "layout": {
          "annotationdefaults": {
           "arrowcolor": "#2a3f5f",
           "arrowhead": 0,
           "arrowwidth": 1
          },
          "autotypenumbers": "strict",
          "coloraxis": {
           "colorbar": {
            "outlinewidth": 0,
            "ticks": ""
           }
          },
          "colorscale": {
           "diverging": [
            [
             0,
             "#8e0152"
            ],
            [
             0.1,
             "#c51b7d"
            ],
            [
             0.2,
             "#de77ae"
            ],
            [
             0.3,
             "#f1b6da"
            ],
            [
             0.4,
             "#fde0ef"
            ],
            [
             0.5,
             "#f7f7f7"
            ],
            [
             0.6,
             "#e6f5d0"
            ],
            [
             0.7,
             "#b8e186"
            ],
            [
             0.8,
             "#7fbc41"
            ],
            [
             0.9,
             "#4d9221"
            ],
            [
             1,
             "#276419"
            ]
           ],
           "sequential": [
            [
             0,
             "#0d0887"
            ],
            [
             0.1111111111111111,
             "#46039f"
            ],
            [
             0.2222222222222222,
             "#7201a8"
            ],
            [
             0.3333333333333333,
             "#9c179e"
            ],
            [
             0.4444444444444444,
             "#bd3786"
            ],
            [
             0.5555555555555556,
             "#d8576b"
            ],
            [
             0.6666666666666666,
             "#ed7953"
            ],
            [
             0.7777777777777778,
             "#fb9f3a"
            ],
            [
             0.8888888888888888,
             "#fdca26"
            ],
            [
             1,
             "#f0f921"
            ]
           ],
           "sequentialminus": [
            [
             0,
             "#0d0887"
            ],
            [
             0.1111111111111111,
             "#46039f"
            ],
            [
             0.2222222222222222,
             "#7201a8"
            ],
            [
             0.3333333333333333,
             "#9c179e"
            ],
            [
             0.4444444444444444,
             "#bd3786"
            ],
            [
             0.5555555555555556,
             "#d8576b"
            ],
            [
             0.6666666666666666,
             "#ed7953"
            ],
            [
             0.7777777777777778,
             "#fb9f3a"
            ],
            [
             0.8888888888888888,
             "#fdca26"
            ],
            [
             1,
             "#f0f921"
            ]
           ]
          },
          "colorway": [
           "#636efa",
           "#EF553B",
           "#00cc96",
           "#ab63fa",
           "#FFA15A",
           "#19d3f3",
           "#FF6692",
           "#B6E880",
           "#FF97FF",
           "#FECB52"
          ],
          "font": {
           "color": "#2a3f5f"
          },
          "geo": {
           "bgcolor": "white",
           "lakecolor": "white",
           "landcolor": "#E5ECF6",
           "showlakes": true,
           "showland": true,
           "subunitcolor": "white"
          },
          "hoverlabel": {
           "align": "left"
          },
          "hovermode": "closest",
          "mapbox": {
           "style": "light"
          },
          "paper_bgcolor": "white",
          "plot_bgcolor": "#E5ECF6",
          "polar": {
           "angularaxis": {
            "gridcolor": "white",
            "linecolor": "white",
            "ticks": ""
           },
           "bgcolor": "#E5ECF6",
           "radialaxis": {
            "gridcolor": "white",
            "linecolor": "white",
            "ticks": ""
           }
          },
          "scene": {
           "xaxis": {
            "backgroundcolor": "#E5ECF6",
            "gridcolor": "white",
            "gridwidth": 2,
            "linecolor": "white",
            "showbackground": true,
            "ticks": "",
            "zerolinecolor": "white"
           },
           "yaxis": {
            "backgroundcolor": "#E5ECF6",
            "gridcolor": "white",
            "gridwidth": 2,
            "linecolor": "white",
            "showbackground": true,
            "ticks": "",
            "zerolinecolor": "white"
           },
           "zaxis": {
            "backgroundcolor": "#E5ECF6",
            "gridcolor": "white",
            "gridwidth": 2,
            "linecolor": "white",
            "showbackground": true,
            "ticks": "",
            "zerolinecolor": "white"
           }
          },
          "shapedefaults": {
           "line": {
            "color": "#2a3f5f"
           }
          },
          "ternary": {
           "aaxis": {
            "gridcolor": "white",
            "linecolor": "white",
            "ticks": ""
           },
           "baxis": {
            "gridcolor": "white",
            "linecolor": "white",
            "ticks": ""
           },
           "bgcolor": "#E5ECF6",
           "caxis": {
            "gridcolor": "white",
            "linecolor": "white",
            "ticks": ""
           }
          },
          "title": {
           "x": 0.05
          },
          "xaxis": {
           "automargin": true,
           "gridcolor": "white",
           "linecolor": "white",
           "ticks": "",
           "title": {
            "standoff": 15
           },
           "zerolinecolor": "white",
           "zerolinewidth": 2
          },
          "yaxis": {
           "automargin": true,
           "gridcolor": "white",
           "linecolor": "white",
           "ticks": "",
           "title": {
            "standoff": 15
           },
           "zerolinecolor": "white",
           "zerolinewidth": 2
          }
         }
        },
        "xaxis": {
         "anchor": "y",
         "domain": [
          0,
          0.7363
         ],
         "title": {
          "text": "module_name"
         }
        },
        "xaxis2": {
         "anchor": "y2",
         "domain": [
          0.7413,
          1
         ],
         "matches": "x2",
         "showgrid": true,
         "showline": false,
         "showticklabels": false,
         "ticks": ""
        },
        "xaxis3": {
         "anchor": "y3",
         "domain": [
          0,
          0.7363
         ],
         "matches": "x",
         "showgrid": true,
         "showticklabels": false
        },
        "xaxis4": {
         "anchor": "y4",
         "domain": [
          0.7413,
          1
         ],
         "matches": "x2",
         "showgrid": true,
         "showline": false,
         "showticklabels": false,
         "ticks": ""
        },
        "yaxis": {
         "anchor": "x",
         "domain": [
          0,
          0.7326
         ],
         "title": {
          "text": "value"
         }
        },
        "yaxis2": {
         "anchor": "x2",
         "domain": [
          0,
          0.7326
         ],
         "matches": "y",
         "showgrid": true,
         "showticklabels": false
        },
        "yaxis3": {
         "anchor": "x3",
         "domain": [
          0.7426,
          1
         ],
         "matches": "y3",
         "showgrid": true,
         "showline": false,
         "showticklabels": false,
         "ticks": ""
        },
        "yaxis4": {
         "anchor": "x4",
         "domain": [
          0.7426,
          1
         ],
         "matches": "y3",
         "showgrid": true,
         "showline": false,
         "showticklabels": false,
         "ticks": ""
        }
       }
      },
      "text/html": [
       "<div>                            <div id=\"ff7cc0b9-efc6-4a6a-9f93-2f17fccd7791\" class=\"plotly-graph-div\" style=\"height:525px; width:100%;\"></div>            <script type=\"text/javascript\">                require([\"plotly\"], function(Plotly) {                    window.PLOTLYENV=window.PLOTLYENV || {};                                    if (document.getElementById(\"ff7cc0b9-efc6-4a6a-9f93-2f17fccd7791\")) {                    Plotly.newPlot(                        \"ff7cc0b9-efc6-4a6a-9f93-2f17fccd7791\",                        [{\"customdata\":[[0,0,\"(9, 20, 15)\",\"(9, 20, 15)\",0.0,3.2648162841796875],[0,0,\"(9, 19, 14)\",\"(9, 19, 14)\",0.0,3.2648162841796875],[0,0,\"(57, 23, 15)\",\"(57, 23, 15)\",0.0,3.2648162841796875],[0,0,\"(9, 20, 15)\",\"(9, 20, 15)\",0.0,3.2648162841796875],[0,0,\"(9, 19, 14)\",\"(9, 19, 14)\",0.0,3.2648162841796875],[0,0,\"(57, 23, 15)\",\"(57, 23, 15)\",0.0,3.2648162841796875],[0,0,\"(30, 7, 8)\",\"(30, 7, 8)\",0.0,3.2648162841796875],[0,0,\"(30, 7, 9)\",\"(30, 7, 9)\",0.0,3.2648162841796875],[0,0,\"(9, 10, 7)\",\"(9, 10, 7)\",0.0,3.2648162841796875],[0,0,\"(12, 10, 6)\",\"(12, 10, 6)\",0.0,3.2648162841796875],[0,0,\"(12, 10, 7)\",\"(12, 10, 7)\",0.0,3.2648162841796875],[0,0,\"(3, 10, 7)\",\"(3, 10, 7)\",0.0,3.2648162841796875],[0,0,\"(12, 10, 6)\",\"(12, 10, 6)\",0.0,3.2648162841796875],[0,0,\"(12, 10, 7)\",\"(12, 10, 7)\",0.0,3.2648162841796875],[0,0,\"(3, 10, 7)\",\"(3, 10, 7)\",0.0,3.2648162841796875],[0,0,\"(12, 5, 3)\",\"(12, 5, 3)\",0.0,3.2648162841796875],[0,0,\"(3, 5, 3)\",\"(3, 5, 3)\",0.0,3.2648162841796875],[0,0,\"(12, 5, 4)\",\"(12, 5, 4)\",0.0,3.2648162841796875],[0,0,\"(229, 4, 4)\",\"(229, 4, 4)\",0.0,3.2648162841796875],[0,0,\"(62, 4, 4)\",\"(62, 4, 4)\",0.0,3.2648162841796875],[0,0,\"(229, 4, 3)\",\"(229, 4, 3)\",0.0,3.2648162841796875],[0,0,\"(229, 4, 4)\",\"(229, 4, 4)\",0.0,3.2648162841796875],[0,0,\"(62, 4, 4)\",\"(62, 4, 4)\",0.0,3.2648162841796875],[0,0,\"(229, 4, 3)\",\"(229, 4, 3)\",0.0,3.2648162841796875],[0,0,\"(62, 5, 4)\",\"(62, 5, 4)\",0.0,3.2648162841796875],[0,0,\"(62, 4, 4)\",\"(62, 4, 4)\",0.0,3.2648162841796875],[0,0,\"(62, 5, 3)\",\"(62, 5, 3)\",0.0,3.2648162841796875],[0,0,\"(62, 5, 4)\",\"(62, 5, 4)\",0.0,3.2648162841796875],[0,0,\"(62, 4, 4)\",\"(62, 4, 4)\",0.0,3.2648162841796875],[0,0,\"(62, 5, 3)\",\"(62, 5, 3)\",0.0,3.2648162841796875],[0,0,\"(62, 2, 2)\",\"(62, 2, 2)\",0.0,3.2648162841796875],[0,0,\"(62, 2, 1)\",\"(62, 2, 1)\",0.0,3.2648162841796875],[0,0,\"(135, 1, 2)\",\"(135, 1, 2)\",0.0,3.2648162841796875],[0,0,\"(250, 2, 2)\",\"(250, 2, 2)\",0.0,3.2648162841796875],[0,0,\"(233, 1, 2)\",\"(233, 1, 2)\",0.0,3.2648162841796875],[0,0,\"(233, 2, 2)\",\"(233, 2, 2)\",0.0,3.2648162841796875],[0,0,\"(250, 2, 2)\",\"(250, 2, 2)\",0.0,3.2648162841796875],[0,0,\"(233, 1, 2)\",\"(233, 1, 2)\",0.0,3.2648162841796875],[0,0,\"(233, 2, 2)\",\"(233, 2, 2)\",0.0,3.2648162841796875],[0,0,\"(400, 1, 3)\",\"(400, 1, 3)\",0.0,3.2648162841796875],[0,0,\"(222, 2, 2)\",\"(222, 2, 2)\",0.0,3.2648162841796875],[0,0,\"(59, 2, 3)\",\"(59, 2, 3)\",0.0,3.2648162841796875],[0,0,\"(400, 1, 3)\",\"(400, 1, 3)\",0.0,3.2648162841796875],[0,0,\"(222, 2, 2)\",\"(222, 2, 2)\",0.0,3.2648162841796875],[0,0,\"(59, 2, 3)\",\"(59, 2, 3)\",0.0,3.2648162841796875],[0,0,\"(400, 0, 1)\",\"(400, 0, 1)\",0.0,3.2648162841796875],[0,0,\"(222, 1, 1)\",\"(222, 1, 1)\",0.0,3.2648162841796875],[0,0,\"(222, 0, 0)\",\"(222, 0, 0)\",0.0,3.2648162841796875],[0,0,\"(340, 0, 0)\",\"(340, 0, 0)\",0.0,3.2648162841796875],[0,0,\"(283, 0, 0)\",\"(283, 0, 0)\",0.0,3.2648162841796875],[0,0,\"(283, 1, 0)\",\"(283, 1, 0)\",0.0,3.2648162841796875],[0,0,\"(283, 0, 0)\",\"(283, 0, 0)\",0.0,3.2648162841796875],[0,0,\"(340, 0, 0)\",\"(340, 0, 0)\",0.0,3.2648162841796875],[0,0,\"(283, 1, 0)\",\"(283, 1, 0)\",0.0,3.2648162841796875],[0,0,\"(185, 0, 1)\",\"(185, 0, 1)\",0.0,3.2648162841796875],[0,0,\"(44, 0, 1)\",\"(44, 0, 1)\",0.0,3.2648162841796875],[0,0,\"(109, 0, 0)\",\"(109, 0, 0)\",0.0,3.2648162841796875],[0,0,\"(185, 0, 1)\",\"(185, 0, 1)\",0.0,3.2648162841796875],[0,0,\"(44, 0, 1)\",\"(44, 0, 1)\",0.0,3.2648162841796875],[0,0,\"(109, 0, 0)\",\"(109, 0, 0)\",0.0,3.2648162841796875],[0,0,\"(185, 0, 0)\",\"(185, 0, 0)\",0.0,3.2648162841796875],[0,0,\"(44, 0, 0)\",\"(44, 0, 0)\",0.0,3.2648162841796875],[0,0,\"(109, 0, 0)\",\"(109, 0, 0)\",0.0,3.2648162841796875],[0,0,\"(185, 3, 4)\",\"(185, 3, 4)\",0.0,3.2648162841796875],[0,0,\"(185, 6, 1)\",\"(185, 6, 1)\",0.0,3.2648162841796875],[0,0,\"(185, 2, 4)\",\"(185, 2, 4)\",0.0,3.2648162841796875],[0,0,\"(294,)\",\"(294,)\",0.0,3.2648162841796875],[0,0,\"(2392,)\",\"(2392,)\",0.0,3.2648162841796875],[0,0,\"(1579,)\",\"(1579,)\",0.0,3.2648162841796875],[0,0,\"(294,)\",\"(294,)\",0.0,3.2648162841796875],[0,0,\"(2392,)\",\"(2392,)\",0.0,3.2648162841796875],[0,0,\"(544,)\",\"(544,)\",0.0,3.2648162841796875],[0,0,\"(294,)\",\"(294,)\",0.0,3.2648162841796875],[0,0,\"(2392,)\",\"(2392,)\",0.0,3.2648162841796875],[0,0,\"(544,)\",\"(544,)\",0.0,3.2648162841796875],[0,0,\"(1226,)\",\"(1226,)\",0.0,3.2648162841796875],[0,0,\"(4037,)\",\"(4037,)\",0.0,3.2648162841796875],[0,0,\"(4082,)\",\"(4082,)\",0.0,3.2648162841796875],[0,0,\"(1226,)\",\"(1226,)\",0.0,3.2648162841796875],[0,0,\"(4037,)\",\"(4037,)\",0.0,3.2648162841796875],[0,0,\"(4082,)\",\"(4082,)\",0.0,3.2648162841796875],[0,0,\"(1226,)\",\"(1226,)\",0.0,3.2648162841796875],[0,0,\"(4037,)\",\"(4037,)\",0.0,3.2648162841796875],[0,0,\"(4082,)\",\"(4082,)\",0.0,3.2648162841796875],[0,0,\"(1,)\",\"(1,)\",0.0,3.2648162841796875],[0,0,\"(8,)\",\"(8,)\",0.0,3.2648162841796875],[0,0,\"(9,)\",\"(9,)\",0.0,3.2648162841796875]],\"hovertemplate\":\"module_name=%{x}<br>value=%{y}<br>batch_index=%{customdata[0]}<br>element_in_batch_index=%{customdata[1]}<br>location=%{customdata[3]}<br>accuracy=%{marker.color}<br>loss=%{customdata[5]}<extra></extra>\",\"legendgroup\":\"\",\"marker\":{\"color\":[0.0,0.0,0.0,0.0,0.0,0.0,0.0,0.0,0.0,0.0,0.0,0.0,0.0,0.0,0.0,0.0,0.0,0.0,0.0,0.0,0.0,0.0,0.0,0.0,0.0,0.0,0.0,0.0,0.0,0.0,0.0,0.0,0.0,0.0,0.0,0.0,0.0,0.0,0.0,0.0,0.0,0.0,0.0,0.0,0.0,0.0,0.0,0.0,0.0,0.0,0.0,0.0,0.0,0.0,0.0,0.0,0.0,0.0,0.0,0.0,0.0,0.0,0.0,0.0,0.0,0.0,0.0,0.0,0.0,0.0,0.0,0.0,0.0,0.0,0.0,0.0,0.0,0.0,0.0,0.0,0.0,0.0,0.0,0.0,0.0,0.0,0.0],\"coloraxis\":\"coloraxis\",\"symbol\":\"circle\"},\"mode\":\"markers\",\"name\":\"\",\"orientation\":\"v\",\"showlegend\":false,\"x\":[\"model.features.0\",\"model.features.0\",\"model.features.0\",\"model.features.1\",\"model.features.1\",\"model.features.1\",\"model.features.2\",\"model.features.2\",\"model.features.2\",\"model.features.3\",\"model.features.3\",\"model.features.3\",\"model.features.4\",\"model.features.4\",\"model.features.4\",\"model.features.5\",\"model.features.5\",\"model.features.5\",\"model.features.6\",\"model.features.6\",\"model.features.6\",\"model.features.7\",\"model.features.7\",\"model.features.7\",\"model.features.8\",\"model.features.8\",\"model.features.8\",\"model.features.9\",\"model.features.9\",\"model.features.9\",\"model.features.10\",\"model.features.10\",\"model.features.10\",\"model.features.11\",\"model.features.11\",\"model.features.11\",\"model.features.12\",\"model.features.12\",\"model.features.12\",\"model.features.13\",\"model.features.13\",\"model.features.13\",\"model.features.14\",\"model.features.14\",\"model.features.14\",\"model.features.15\",\"model.features.15\",\"model.features.15\",\"model.features.16\",\"model.features.16\",\"model.features.16\",\"model.features.17\",\"model.features.17\",\"model.features.17\",\"model.features.18\",\"model.features.18\",\"model.features.18\",\"model.features.19\",\"model.features.19\",\"model.features.19\",\"model.features.20\",\"model.features.20\",\"model.features.20\",\"model.avgpool\",\"model.avgpool\",\"model.avgpool\",\"model.classifier.0\",\"model.classifier.0\",\"model.classifier.0\",\"model.classifier.1\",\"model.classifier.1\",\"model.classifier.1\",\"model.classifier.2\",\"model.classifier.2\",\"model.classifier.2\",\"model.classifier.3\",\"model.classifier.3\",\"model.classifier.3\",\"model.classifier.4\",\"model.classifier.4\",\"model.classifier.4\",\"model.classifier.5\",\"model.classifier.5\",\"model.classifier.5\",\"model.classifier.6\",\"model.classifier.6\",\"model.classifier.6\"],\"xaxis\":\"x\",\"y\":[-0.1003667563199997,-0.1993972659111023,-0.057148277759552,0.0,0.0,0.0,0.0,0.0381456986069679,0.1442963629961013,-3.569519281387329,-2.841289520263672,-1.8361256122589111,0.0,0.0,0.0,0.0,0.0,0.0,0.6447211503982544,0.1187095865607261,-0.9572595953941344,0.6447211503982544,0.1187095865607261,0.0,-8.211251258850098,-4.245309352874756,-8.215839385986328,0.0,0.0,0.0,0.0,0.0,0.0,-4.527289390563965,0.4978875517845154,5.144813537597656,0.0,0.4978875517845154,5.144813537597656,-5.531975746154785,4.71080493927002,-8.964343070983887,0.0,4.71080493927002,0.0,0.4682757258415222,7.034436225891113,0.8085494041442871,-1.027454853057861,-0.6559988856315613,-1.117244839668274,0.0,0.0,0.0,0.0861037224531173,0.0133442115038633,-0.0125439809635281,0.0861037224531173,0.0133442115038633,0.0,0.0861037224531173,0.0133442115038633,0.0,0.0861037224531173,0.0861037224531173,0.0861037224531173,-0.4567270278930664,-0.5512797832489014,0.0036760717630386,0.0,0.0,0.05263152718544,0.0,0.0,0.05263152718544,-0.513818085193634,0.0736851543188095,0.2001332342624664,0.0,0.0736851543188095,0.2001332342624664,0.0,0.0736851543188095,0.2001332342624664,-1.2990131378173828,1.1545323133468628,-1.8840537071228027],\"yaxis\":\"y\",\"type\":\"scatter\"},{\"alignmentgroup\":\"True\",\"bingroup\":\"x\",\"hovertemplate\":\"module_name=%{x}<br>count=%{y}<extra></extra>\",\"legendgroup\":\"\",\"marker\":{\"color\":\"#0d0887\"},\"name\":\"\",\"offsetgroup\":\"\",\"opacity\":0.5,\"showlegend\":false,\"x\":[\"model.features.0\",\"model.features.0\",\"model.features.0\",\"model.features.1\",\"model.features.1\",\"model.features.1\",\"model.features.2\",\"model.features.2\",\"model.features.2\",\"model.features.3\",\"model.features.3\",\"model.features.3\",\"model.features.4\",\"model.features.4\",\"model.features.4\",\"model.features.5\",\"model.features.5\",\"model.features.5\",\"model.features.6\",\"model.features.6\",\"model.features.6\",\"model.features.7\",\"model.features.7\",\"model.features.7\",\"model.features.8\",\"model.features.8\",\"model.features.8\",\"model.features.9\",\"model.features.9\",\"model.features.9\",\"model.features.10\",\"model.features.10\",\"model.features.10\",\"model.features.11\",\"model.features.11\",\"model.features.11\",\"model.features.12\",\"model.features.12\",\"model.features.12\",\"model.features.13\",\"model.features.13\",\"model.features.13\",\"model.features.14\",\"model.features.14\",\"model.features.14\",\"model.features.15\",\"model.features.15\",\"model.features.15\",\"model.features.16\",\"model.features.16\",\"model.features.16\",\"model.features.17\",\"model.features.17\",\"model.features.17\",\"model.features.18\",\"model.features.18\",\"model.features.18\",\"model.features.19\",\"model.features.19\",\"model.features.19\",\"model.features.20\",\"model.features.20\",\"model.features.20\",\"model.avgpool\",\"model.avgpool\",\"model.avgpool\",\"model.classifier.0\",\"model.classifier.0\",\"model.classifier.0\",\"model.classifier.1\",\"model.classifier.1\",\"model.classifier.1\",\"model.classifier.2\",\"model.classifier.2\",\"model.classifier.2\",\"model.classifier.3\",\"model.classifier.3\",\"model.classifier.3\",\"model.classifier.4\",\"model.classifier.4\",\"model.classifier.4\",\"model.classifier.5\",\"model.classifier.5\",\"model.classifier.5\",\"model.classifier.6\",\"model.classifier.6\",\"model.classifier.6\"],\"xaxis\":\"x3\",\"yaxis\":\"y3\",\"type\":\"histogram\"},{\"alignmentgroup\":\"True\",\"bingroup\":\"y\",\"hovertemplate\":\"value=%{y}<br>count=%{x}<extra></extra>\",\"legendgroup\":\"\",\"marker\":{\"color\":\"#0d0887\"},\"name\":\"\",\"offsetgroup\":\"\",\"opacity\":0.5,\"showlegend\":false,\"xaxis\":\"x2\",\"y\":[-0.1003667563199997,-0.1993972659111023,-0.057148277759552,0.0,0.0,0.0,0.0,0.0381456986069679,0.1442963629961013,-3.569519281387329,-2.841289520263672,-1.8361256122589111,0.0,0.0,0.0,0.0,0.0,0.0,0.6447211503982544,0.1187095865607261,-0.9572595953941344,0.6447211503982544,0.1187095865607261,0.0,-8.211251258850098,-4.245309352874756,-8.215839385986328,0.0,0.0,0.0,0.0,0.0,0.0,-4.527289390563965,0.4978875517845154,5.144813537597656,0.0,0.4978875517845154,5.144813537597656,-5.531975746154785,4.71080493927002,-8.964343070983887,0.0,4.71080493927002,0.0,0.4682757258415222,7.034436225891113,0.8085494041442871,-1.027454853057861,-0.6559988856315613,-1.117244839668274,0.0,0.0,0.0,0.0861037224531173,0.0133442115038633,-0.0125439809635281,0.0861037224531173,0.0133442115038633,0.0,0.0861037224531173,0.0133442115038633,0.0,0.0861037224531173,0.0861037224531173,0.0861037224531173,-0.4567270278930664,-0.5512797832489014,0.0036760717630386,0.0,0.0,0.05263152718544,0.0,0.0,0.05263152718544,-0.513818085193634,0.0736851543188095,0.2001332342624664,0.0,0.0736851543188095,0.2001332342624664,0.0,0.0736851543188095,0.2001332342624664,-1.2990131378173828,1.1545323133468628,-1.8840537071228027],\"yaxis\":\"y2\",\"type\":\"histogram\"}],                        {\"template\":{\"data\":{\"histogram2dcontour\":[{\"type\":\"histogram2dcontour\",\"colorbar\":{\"outlinewidth\":0,\"ticks\":\"\"},\"colorscale\":[[0.0,\"#0d0887\"],[0.1111111111111111,\"#46039f\"],[0.2222222222222222,\"#7201a8\"],[0.3333333333333333,\"#9c179e\"],[0.4444444444444444,\"#bd3786\"],[0.5555555555555556,\"#d8576b\"],[0.6666666666666666,\"#ed7953\"],[0.7777777777777778,\"#fb9f3a\"],[0.8888888888888888,\"#fdca26\"],[1.0,\"#f0f921\"]]}],\"choropleth\":[{\"type\":\"choropleth\",\"colorbar\":{\"outlinewidth\":0,\"ticks\":\"\"}}],\"histogram2d\":[{\"type\":\"histogram2d\",\"colorbar\":{\"outlinewidth\":0,\"ticks\":\"\"},\"colorscale\":[[0.0,\"#0d0887\"],[0.1111111111111111,\"#46039f\"],[0.2222222222222222,\"#7201a8\"],[0.3333333333333333,\"#9c179e\"],[0.4444444444444444,\"#bd3786\"],[0.5555555555555556,\"#d8576b\"],[0.6666666666666666,\"#ed7953\"],[0.7777777777777778,\"#fb9f3a\"],[0.8888888888888888,\"#fdca26\"],[1.0,\"#f0f921\"]]}],\"heatmap\":[{\"type\":\"heatmap\",\"colorbar\":{\"outlinewidth\":0,\"ticks\":\"\"},\"colorscale\":[[0.0,\"#0d0887\"],[0.1111111111111111,\"#46039f\"],[0.2222222222222222,\"#7201a8\"],[0.3333333333333333,\"#9c179e\"],[0.4444444444444444,\"#bd3786\"],[0.5555555555555556,\"#d8576b\"],[0.6666666666666666,\"#ed7953\"],[0.7777777777777778,\"#fb9f3a\"],[0.8888888888888888,\"#fdca26\"],[1.0,\"#f0f921\"]]}],\"heatmapgl\":[{\"type\":\"heatmapgl\",\"colorbar\":{\"outlinewidth\":0,\"ticks\":\"\"},\"colorscale\":[[0.0,\"#0d0887\"],[0.1111111111111111,\"#46039f\"],[0.2222222222222222,\"#7201a8\"],[0.3333333333333333,\"#9c179e\"],[0.4444444444444444,\"#bd3786\"],[0.5555555555555556,\"#d8576b\"],[0.6666666666666666,\"#ed7953\"],[0.7777777777777778,\"#fb9f3a\"],[0.8888888888888888,\"#fdca26\"],[1.0,\"#f0f921\"]]}],\"contourcarpet\":[{\"type\":\"contourcarpet\",\"colorbar\":{\"outlinewidth\":0,\"ticks\":\"\"}}],\"contour\":[{\"type\":\"contour\",\"colorbar\":{\"outlinewidth\":0,\"ticks\":\"\"},\"colorscale\":[[0.0,\"#0d0887\"],[0.1111111111111111,\"#46039f\"],[0.2222222222222222,\"#7201a8\"],[0.3333333333333333,\"#9c179e\"],[0.4444444444444444,\"#bd3786\"],[0.5555555555555556,\"#d8576b\"],[0.6666666666666666,\"#ed7953\"],[0.7777777777777778,\"#fb9f3a\"],[0.8888888888888888,\"#fdca26\"],[1.0,\"#f0f921\"]]}],\"surface\":[{\"type\":\"surface\",\"colorbar\":{\"outlinewidth\":0,\"ticks\":\"\"},\"colorscale\":[[0.0,\"#0d0887\"],[0.1111111111111111,\"#46039f\"],[0.2222222222222222,\"#7201a8\"],[0.3333333333333333,\"#9c179e\"],[0.4444444444444444,\"#bd3786\"],[0.5555555555555556,\"#d8576b\"],[0.6666666666666666,\"#ed7953\"],[0.7777777777777778,\"#fb9f3a\"],[0.8888888888888888,\"#fdca26\"],[1.0,\"#f0f921\"]]}],\"mesh3d\":[{\"type\":\"mesh3d\",\"colorbar\":{\"outlinewidth\":0,\"ticks\":\"\"}}],\"scatter\":[{\"fillpattern\":{\"fillmode\":\"overlay\",\"size\":10,\"solidity\":0.2},\"type\":\"scatter\"}],\"parcoords\":[{\"type\":\"parcoords\",\"line\":{\"colorbar\":{\"outlinewidth\":0,\"ticks\":\"\"}}}],\"scatterpolargl\":[{\"type\":\"scatterpolargl\",\"marker\":{\"colorbar\":{\"outlinewidth\":0,\"ticks\":\"\"}}}],\"bar\":[{\"error_x\":{\"color\":\"#2a3f5f\"},\"error_y\":{\"color\":\"#2a3f5f\"},\"marker\":{\"line\":{\"color\":\"#E5ECF6\",\"width\":0.5},\"pattern\":{\"fillmode\":\"overlay\",\"size\":10,\"solidity\":0.2}},\"type\":\"bar\"}],\"scattergeo\":[{\"type\":\"scattergeo\",\"marker\":{\"colorbar\":{\"outlinewidth\":0,\"ticks\":\"\"}}}],\"scatterpolar\":[{\"type\":\"scatterpolar\",\"marker\":{\"colorbar\":{\"outlinewidth\":0,\"ticks\":\"\"}}}],\"histogram\":[{\"marker\":{\"pattern\":{\"fillmode\":\"overlay\",\"size\":10,\"solidity\":0.2}},\"type\":\"histogram\"}],\"scattergl\":[{\"type\":\"scattergl\",\"marker\":{\"colorbar\":{\"outlinewidth\":0,\"ticks\":\"\"}}}],\"scatter3d\":[{\"type\":\"scatter3d\",\"line\":{\"colorbar\":{\"outlinewidth\":0,\"ticks\":\"\"}},\"marker\":{\"colorbar\":{\"outlinewidth\":0,\"ticks\":\"\"}}}],\"scattermapbox\":[{\"type\":\"scattermapbox\",\"marker\":{\"colorbar\":{\"outlinewidth\":0,\"ticks\":\"\"}}}],\"scatterternary\":[{\"type\":\"scatterternary\",\"marker\":{\"colorbar\":{\"outlinewidth\":0,\"ticks\":\"\"}}}],\"scattercarpet\":[{\"type\":\"scattercarpet\",\"marker\":{\"colorbar\":{\"outlinewidth\":0,\"ticks\":\"\"}}}],\"carpet\":[{\"aaxis\":{\"endlinecolor\":\"#2a3f5f\",\"gridcolor\":\"white\",\"linecolor\":\"white\",\"minorgridcolor\":\"white\",\"startlinecolor\":\"#2a3f5f\"},\"baxis\":{\"endlinecolor\":\"#2a3f5f\",\"gridcolor\":\"white\",\"linecolor\":\"white\",\"minorgridcolor\":\"white\",\"startlinecolor\":\"#2a3f5f\"},\"type\":\"carpet\"}],\"table\":[{\"cells\":{\"fill\":{\"color\":\"#EBF0F8\"},\"line\":{\"color\":\"white\"}},\"header\":{\"fill\":{\"color\":\"#C8D4E3\"},\"line\":{\"color\":\"white\"}},\"type\":\"table\"}],\"barpolar\":[{\"marker\":{\"line\":{\"color\":\"#E5ECF6\",\"width\":0.5},\"pattern\":{\"fillmode\":\"overlay\",\"size\":10,\"solidity\":0.2}},\"type\":\"barpolar\"}],\"pie\":[{\"automargin\":true,\"type\":\"pie\"}]},\"layout\":{\"autotypenumbers\":\"strict\",\"colorway\":[\"#636efa\",\"#EF553B\",\"#00cc96\",\"#ab63fa\",\"#FFA15A\",\"#19d3f3\",\"#FF6692\",\"#B6E880\",\"#FF97FF\",\"#FECB52\"],\"font\":{\"color\":\"#2a3f5f\"},\"hovermode\":\"closest\",\"hoverlabel\":{\"align\":\"left\"},\"paper_bgcolor\":\"white\",\"plot_bgcolor\":\"#E5ECF6\",\"polar\":{\"bgcolor\":\"#E5ECF6\",\"angularaxis\":{\"gridcolor\":\"white\",\"linecolor\":\"white\",\"ticks\":\"\"},\"radialaxis\":{\"gridcolor\":\"white\",\"linecolor\":\"white\",\"ticks\":\"\"}},\"ternary\":{\"bgcolor\":\"#E5ECF6\",\"aaxis\":{\"gridcolor\":\"white\",\"linecolor\":\"white\",\"ticks\":\"\"},\"baxis\":{\"gridcolor\":\"white\",\"linecolor\":\"white\",\"ticks\":\"\"},\"caxis\":{\"gridcolor\":\"white\",\"linecolor\":\"white\",\"ticks\":\"\"}},\"coloraxis\":{\"colorbar\":{\"outlinewidth\":0,\"ticks\":\"\"}},\"colorscale\":{\"sequential\":[[0.0,\"#0d0887\"],[0.1111111111111111,\"#46039f\"],[0.2222222222222222,\"#7201a8\"],[0.3333333333333333,\"#9c179e\"],[0.4444444444444444,\"#bd3786\"],[0.5555555555555556,\"#d8576b\"],[0.6666666666666666,\"#ed7953\"],[0.7777777777777778,\"#fb9f3a\"],[0.8888888888888888,\"#fdca26\"],[1.0,\"#f0f921\"]],\"sequentialminus\":[[0.0,\"#0d0887\"],[0.1111111111111111,\"#46039f\"],[0.2222222222222222,\"#7201a8\"],[0.3333333333333333,\"#9c179e\"],[0.4444444444444444,\"#bd3786\"],[0.5555555555555556,\"#d8576b\"],[0.6666666666666666,\"#ed7953\"],[0.7777777777777778,\"#fb9f3a\"],[0.8888888888888888,\"#fdca26\"],[1.0,\"#f0f921\"]],\"diverging\":[[0,\"#8e0152\"],[0.1,\"#c51b7d\"],[0.2,\"#de77ae\"],[0.3,\"#f1b6da\"],[0.4,\"#fde0ef\"],[0.5,\"#f7f7f7\"],[0.6,\"#e6f5d0\"],[0.7,\"#b8e186\"],[0.8,\"#7fbc41\"],[0.9,\"#4d9221\"],[1,\"#276419\"]]},\"xaxis\":{\"gridcolor\":\"white\",\"linecolor\":\"white\",\"ticks\":\"\",\"title\":{\"standoff\":15},\"zerolinecolor\":\"white\",\"automargin\":true,\"zerolinewidth\":2},\"yaxis\":{\"gridcolor\":\"white\",\"linecolor\":\"white\",\"ticks\":\"\",\"title\":{\"standoff\":15},\"zerolinecolor\":\"white\",\"automargin\":true,\"zerolinewidth\":2},\"scene\":{\"xaxis\":{\"backgroundcolor\":\"#E5ECF6\",\"gridcolor\":\"white\",\"linecolor\":\"white\",\"showbackground\":true,\"ticks\":\"\",\"zerolinecolor\":\"white\",\"gridwidth\":2},\"yaxis\":{\"backgroundcolor\":\"#E5ECF6\",\"gridcolor\":\"white\",\"linecolor\":\"white\",\"showbackground\":true,\"ticks\":\"\",\"zerolinecolor\":\"white\",\"gridwidth\":2},\"zaxis\":{\"backgroundcolor\":\"#E5ECF6\",\"gridcolor\":\"white\",\"linecolor\":\"white\",\"showbackground\":true,\"ticks\":\"\",\"zerolinecolor\":\"white\",\"gridwidth\":2}},\"shapedefaults\":{\"line\":{\"color\":\"#2a3f5f\"}},\"annotationdefaults\":{\"arrowcolor\":\"#2a3f5f\",\"arrowhead\":0,\"arrowwidth\":1},\"geo\":{\"bgcolor\":\"white\",\"landcolor\":\"#E5ECF6\",\"subunitcolor\":\"white\",\"showland\":true,\"showlakes\":true,\"lakecolor\":\"white\"},\"title\":{\"x\":0.05},\"mapbox\":{\"style\":\"light\"}}},\"xaxis\":{\"anchor\":\"y\",\"domain\":[0.0,0.7363],\"title\":{\"text\":\"module_name\"}},\"yaxis\":{\"anchor\":\"x\",\"domain\":[0.0,0.7326],\"title\":{\"text\":\"value\"}},\"xaxis2\":{\"anchor\":\"y2\",\"domain\":[0.7413,1.0],\"matches\":\"x2\",\"showticklabels\":false,\"showline\":false,\"ticks\":\"\",\"showgrid\":true},\"yaxis2\":{\"anchor\":\"x2\",\"domain\":[0.0,0.7326],\"matches\":\"y\",\"showticklabels\":false,\"showgrid\":true},\"xaxis3\":{\"anchor\":\"y3\",\"domain\":[0.0,0.7363],\"matches\":\"x\",\"showticklabels\":false,\"showgrid\":true},\"yaxis3\":{\"anchor\":\"x3\",\"domain\":[0.7426,1.0],\"matches\":\"y3\",\"showticklabels\":false,\"showline\":false,\"ticks\":\"\",\"showgrid\":true},\"xaxis4\":{\"anchor\":\"y4\",\"domain\":[0.7413,1.0],\"matches\":\"x2\",\"showticklabels\":false,\"showgrid\":true,\"showline\":false,\"ticks\":\"\"},\"yaxis4\":{\"anchor\":\"x4\",\"domain\":[0.7426,1.0],\"matches\":\"y3\",\"showticklabels\":false,\"showline\":false,\"ticks\":\"\",\"showgrid\":true},\"coloraxis\":{\"colorbar\":{\"title\":{\"text\":\"accuracy\"}},\"colorscale\":[[0.0,\"#0d0887\"],[0.1111111111111111,\"#46039f\"],[0.2222222222222222,\"#7201a8\"],[0.3333333333333333,\"#9c179e\"],[0.4444444444444444,\"#bd3786\"],[0.5555555555555556,\"#d8576b\"],[0.6666666666666666,\"#ed7953\"],[0.7777777777777778,\"#fb9f3a\"],[0.8888888888888888,\"#fdca26\"],[1.0,\"#f0f921\"]]},\"legend\":{\"tracegroupgap\":0},\"margin\":{\"t\":60},\"barmode\":\"overlay\"},                        {\"responsive\": true}                    ).then(function(){\n",
       "                            \n",
       "var gd = document.getElementById('ff7cc0b9-efc6-4a6a-9f93-2f17fccd7791');\n",
       "var x = new MutationObserver(function (mutations, observer) {{\n",
       "        var display = window.getComputedStyle(gd).display;\n",
       "        if (!display || display === 'none') {{\n",
       "            console.log([gd, 'removed!']);\n",
       "            Plotly.purge(gd);\n",
       "            observer.disconnect();\n",
       "        }}\n",
       "}});\n",
       "\n",
       "// Listen for the removal of the full notebook cells\n",
       "var notebookContainer = gd.closest('#notebook-container');\n",
       "if (notebookContainer) {{\n",
       "    x.observe(notebookContainer, {childList: true});\n",
       "}}\n",
       "\n",
       "// Listen for the clearing of the current output cell\n",
       "var outputEl = gd.closest('.output');\n",
       "if (outputEl) {{\n",
       "    x.observe(outputEl, {childList: true});\n",
       "}}\n",
       "\n",
       "                        })                };                });            </script>        </div>"
      ]
     },
     "metadata": {},
     "output_type": "display_data"
    }
   ],
   "source": [
    "plotly.express.scatter(\n",
    "    # to check the distribution for each neuron\n",
    "    # the distribution is pretty focused Gaussian around 0 for the early layers,\n",
    "    # later ones have very high peak around [-10,10] and then wide spread with good accuracy\n",
    "    # boundary accuracy vs loss is not clear at early layers, it improves but not so much\n",
    "    # later on most of the faults happen around the center\n",
    "    # dataframe[(dataframe[\"module_name\"] == \"model.classifier.6\") & (dataframe[\"location\"] == \"(1,)\")],\n",
    "    # y=\"value\",\n",
    "    # x=\"loss\",\n",
    "    # color=\"accuracy\",\n",
    "    \n",
    "    # now for analyzing the correlation across the same execution\n",
    "    dataframe[(dataframe[\"batch_index\"] == 0) & (dataframe[\"element_in_batch_index\"] == 0)],\n",
    "    y=\"value\",\n",
    "    x=\"module_name\",\n",
    "    color=\"accuracy\",\n",
    "    \n",
    "    marginal_x=\"histogram\",\n",
    "    marginal_y=\"histogram\",\n",
    "    \n",
    "    hover_data=['module_name', \"batch_index\", \"element_in_batch_index\", \"location\", \"location\", \"accuracy\", \"loss\"],\n",
    "    # CIFAR10 with VGG11 30 epochs\n",
    "#     range_x=[-0.1, 160],\n",
    "#     range_y=[-1, 1],\n",
    "    # MNIST with MLP 30 epochs\n",
    "#     range_x=[-0.1, 20],\n",
    "#     range_y=[-20, 20],\n",
    ")"
   ]
  },
  {
   "cell_type": "code",
   "execution_count": 25,
   "id": "3c0baeff",
   "metadata": {},
   "outputs": [
    {
     "data": {
      "text/plain": [
       "torch.return_types.topk(\n",
       "values=tensor([1, 2]),\n",
       "indices=tensor([0, 1]))"
      ]
     },
     "execution_count": 25,
     "metadata": {},
     "output_type": "execute_result"
    }
   ],
   "source": [
    "# import torch\n",
    "# torch.topk(torch.tensor([1, 2, 3]), k=2, largest=False, sorted=True)"
   ]
  },
  {
   "cell_type": "code",
   "execution_count": 27,
   "id": "2a9135a6",
   "metadata": {},
   "outputs": [
    {
     "data": {
      "text/plain": [
       "{'conv1': [64, 16, 16],\n",
       " 'bn1': [64, 16, 16],\n",
       " 'relu': [64, 16, 16],\n",
       " 'maxpool': [64, 8, 8],\n",
       " 'layer1.0.conv1': [64, 8, 8],\n",
       " 'layer1.0.bn1': [64, 8, 8],\n",
       " 'layer1.0.relu': [64, 8, 8],\n",
       " 'layer1.0.conv2': [64, 8, 8],\n",
       " 'layer1.0.bn2': [64, 8, 8],\n",
       " 'layer1.1.conv1': [64, 8, 8],\n",
       " 'layer1.1.bn1': [64, 8, 8],\n",
       " 'layer1.1.relu': [64, 8, 8],\n",
       " 'layer1.1.conv2': [64, 8, 8],\n",
       " 'layer1.1.bn2': [64, 8, 8],\n",
       " 'layer2.0.conv1': [128, 4, 4],\n",
       " 'layer2.0.bn1': [128, 4, 4],\n",
       " 'layer2.0.relu': [128, 4, 4],\n",
       " 'layer2.0.conv2': [128, 4, 4],\n",
       " 'layer2.0.bn2': [128, 4, 4],\n",
       " 'layer2.0.downsample.0': [128, 4, 4],\n",
       " 'layer2.0.downsample.1': [128, 4, 4],\n",
       " 'layer2.1.conv1': [128, 4, 4],\n",
       " 'layer2.1.bn1': [128, 4, 4],\n",
       " 'layer2.1.relu': [128, 4, 4],\n",
       " 'layer2.1.conv2': [128, 4, 4],\n",
       " 'layer2.1.bn2': [128, 4, 4],\n",
       " 'layer3.0.conv1': [256, 2, 2],\n",
       " 'layer3.0.bn1': [256, 2, 2],\n",
       " 'layer3.0.relu': [256, 2, 2],\n",
       " 'layer3.0.conv2': [256, 2, 2],\n",
       " 'layer3.0.bn2': [256, 2, 2],\n",
       " 'layer3.0.downsample.0': [256, 2, 2],\n",
       " 'layer3.0.downsample.1': [256, 2, 2],\n",
       " 'layer3.1.conv1': [256, 2, 2],\n",
       " 'layer3.1.bn1': [256, 2, 2],\n",
       " 'layer3.1.relu': [256, 2, 2],\n",
       " 'layer3.1.conv2': [256, 2, 2],\n",
       " 'layer3.1.bn2': [256, 2, 2],\n",
       " 'layer4.0.conv1': [512, 1, 1],\n",
       " 'layer4.0.bn1': [512, 1, 1],\n",
       " 'layer4.0.relu': [512, 1, 1],\n",
       " 'layer4.0.conv2': [512, 1, 1],\n",
       " 'layer4.0.bn2': [512, 1, 1],\n",
       " 'layer4.0.downsample.0': [512, 1, 1],\n",
       " 'layer4.0.downsample.1': [512, 1, 1],\n",
       " 'layer4.1.conv1': [512, 1, 1],\n",
       " 'layer4.1.bn1': [512, 1, 1],\n",
       " 'layer4.1.relu': [512, 1, 1],\n",
       " 'layer4.1.conv2': [512, 1, 1],\n",
       " 'layer4.1.bn2': [512, 1, 1],\n",
       " 'avgpool': [512, 1, 1],\n",
       " 'fc': [10]}"
      ]
     },
     "execution_count": 27,
     "metadata": {},
     "output_type": "execute_result"
    }
   ],
   "source": [
    "import torch\n",
    "import torchinfo\n",
    "import torchvision\n",
    "\n",
    "def get_full_layer_name_from_summary(layer_summary, skip_main_model=True):\n",
    "    parent_info = layer_summary.parent_info\n",
    "    layer_full_name = layer_summary.var_name\n",
    "    while parent_info is not None and (not skip_main_model or skip_main_model and parent_info.parent_info is not None):\n",
    "        layer_full_name = f\"{parent_info.var_name}.{layer_full_name}\"\n",
    "        parent_info = parent_info.parent_info\n",
    "    return layer_full_name\n",
    "\n",
    "FULL_LAYER_LIST = {}\n",
    "for layer_summary in filter(lambda x: x.is_leaf_layer and x.output_size is not None, torchinfo.summary(torchvision.models.resnet18(num_classes=10), input_size=[1, 3, 32, 32]).summary_list):\n",
    "    layer_full_name = get_full_layer_name_from_summary(layer_summary, skip_main_model=True)\n",
    "    FULL_LAYER_LIST[layer_full_name] = layer_summary.output_size[1:]\n",
    "FULL_LAYER_LIST"
   ]
  }
 ],
 "metadata": {
  "kernelspec": {
   "display_name": "Python 3 (ipykernel)",
   "language": "python",
   "name": "python3"
  },
  "language_info": {
   "codemirror_mode": {
    "name": "ipython",
    "version": 3
   },
   "file_extension": ".py",
   "mimetype": "text/x-python",
   "name": "python",
   "nbconvert_exporter": "python",
   "pygments_lexer": "ipython3",
   "version": "3.11.0"
  }
 },
 "nbformat": 4,
 "nbformat_minor": 5
}
