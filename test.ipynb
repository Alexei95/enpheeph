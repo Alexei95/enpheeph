{
 "metadata": {
  "language_info": {
   "codemirror_mode": {
    "name": "ipython",
    "version": 3
   },
   "file_extension": ".py",
   "mimetype": "text/x-python",
   "name": "python",
   "nbconvert_exporter": "python",
   "pygments_lexer": "ipython3",
   "version": "3.8.3-final"
  },
  "orig_nbformat": 2,
  "kernelspec": {
   "name": "python38364bitcustomfaultinjectionframeworkpytorch15conda1f9e4070c157481e9e620503dd67ffba",
   "display_name": "Python 3.8.3 64-bit ('CustomFaultInjectionFrameworkPyTorch1_5': conda)"
  }
 },
 "nbformat": 4,
 "nbformat_minor": 2,
 "cells": [
  {
   "cell_type": "code",
   "execution_count": 19,
   "metadata": {
    "tags": []
   },
   "outputs": [
    {
     "output_type": "stream",
     "name": "stdout",
     "text": "Done\n"
    }
   ],
   "source": [
    "import torch\n",
    "\n",
    "import src.dnn.datasets\n",
    "import src.dnn.models\n",
    "import src.dnn.test\n",
    "import src.dnn.train\n",
    "import src.dnn.utils\n",
    "\n",
    "train_dataset, test_dataset = src.dnn.datasets.DATASETS['MNIST'](train_batch_size=128, test_batch_size=128, path='datasets')\n",
    "#model = src.dnn.train.train(src.dnn.models.MODELS['LeNet5'](), cuda=True, train_dataset=train_dataset, optimizer_class=torch.optim.Adam, optimizer_args={}, loss=torch.nn.CrossEntropyLoss(), n_epochs=1)\n",
    "model = src.dnn.utils.init_model(src.dnn.models.MODELS['LeNet5'], model_args={}, use_saved_model=True, model_save_path='models/lenet5.pkl', cuda=True, train_dataset=train_dataset, optimizer_class=torch.optim.Adam, optimizer_args={}, loss=torch.nn.CrossEntropyLoss(), n_epochs=1)\n",
    "loaded_model = src.dnn.utils.load_model(src.dnn.models.MODELS['LeNet5'](), 'models/lenet5.pkl')\n",
    "print('Done')"
   ]
  },
  {
   "cell_type": "code",
   "execution_count": 20,
   "metadata": {
    "tags": []
   },
   "outputs": [
    {
     "output_type": "stream",
     "name": "stdout",
     "text": "Parameter containing:\ntensor([ 0.0557,  0.0186, -0.0026, -0.1097,  0.0753, -0.0255,  0.0785,  0.0463,\n         0.0458,  0.0891], device='cuda:0', requires_grad=True)\nParameter containing:\ntensor([ 0.0557,  0.0186, -0.0026, -0.1097,  0.0753, -0.0255,  0.0785,  0.0463,\n         0.0458,  0.0891], device='cuda:0', requires_grad=True)\n{'accuracy': 0.9712, 'loss': 0.0007349000092595815}\n{'accuracy': 0.9712, 'loss': 0.0007349000092595815}\n"
    }
   ],
   "source": [
    "print(dict(model['model'].named_parameters())['fc.f7.bias'])\n",
    "print(dict(loaded_model.named_parameters())['fc.f7.bias'])\n",
    "print(src.dnn.test.test(model['model'], test_dataset, loss=torch.nn.CrossEntropyLoss()))\n",
    "print(src.dnn.test.test(loaded_model, test_dataset, loss=torch.nn.CrossEntropyLoss()))"
   ]
  },
  {
   "cell_type": "code",
   "execution_count": 15,
   "metadata": {},
   "outputs": [],
   "source": [
    "torch.save(model['model'].state_dict(), 'models/lenet5.pkl')"
   ]
  }
 ]
}